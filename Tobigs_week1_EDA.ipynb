{
  "nbformat": 4,
  "nbformat_minor": 0,
  "metadata": {
    "colab": {
      "name": "Tobigs_week1_EDA.ipynb",
      "provenance": [],
      "collapsed_sections": [],
      "authorship_tag": "ABX9TyOF+4uYeG02mhZtCciG+LTl",
      "include_colab_link": true
    },
    "kernelspec": {
      "name": "python3",
      "display_name": "Python 3"
    }
  },
  "cells": [
    {
      "cell_type": "markdown",
      "metadata": {
        "id": "view-in-github",
        "colab_type": "text"
      },
      "source": [
        "<a href=\"https://colab.research.google.com/github/ltnalsxl/git_team3/blob/master/Tobigs_week1_EDA.ipynb\" target=\"_parent\"><img src=\"https://colab.research.google.com/assets/colab-badge.svg\" alt=\"Open In Colab\"/></a>"
      ]
    },
    {
      "cell_type": "markdown",
      "metadata": {
        "id": "Zucm_kXZoex-"
      },
      "source": [
        "# 투빅스 15기 정규세션 Week1 EDA - 15기 이수민"
      ]
    },
    {
      "cell_type": "code",
      "metadata": {
        "id": "0uDP3-9wojYm"
      },
      "source": [
        "import numpy as np\r\n",
        "import pandas as pd\r\n",
        "\r\n",
        "#visualization\r\n",
        "import matplotlib.pyplot as plt\r\n",
        "%matplotlib inline\r\n",
        "import seaborn as sns\r\n",
        "import warnings\r\n",
        "\r\n",
        "warnings.filterwarnings(action='ignore')\r\n",
        "\r\n",
        "plt.style.use('seaborn')\r\n",
        "plt.rc('font', family='Nanum Gothic')\r\n",
        "plt.rc('axes', unicode_minus=False)\r\n",
        "\r\n",
        "from collections import Counter"
      ],
      "execution_count": null,
      "outputs": []
    },
    {
      "cell_type": "markdown",
      "metadata": {
        "id": "UJ3zaLF-pMOg"
      },
      "source": [
        "# 1. Data"
      ]
    },
    {
      "cell_type": "code",
      "metadata": {
        "id": "dR8IINIyoHbI"
      },
      "source": [
        "data = pd.read_csv(\"과제데이터.csv\")"
      ],
      "execution_count": null,
      "outputs": []
    },
    {
      "cell_type": "markdown",
      "metadata": {
        "id": "Osz2Xg1HpOMn"
      },
      "source": [
        "## 1-1 Data 파악하기"
      ]
    },
    {
      "cell_type": "code",
      "metadata": {
        "colab": {
          "base_uri": "https://localhost:8080/",
          "height": 204
        },
        "id": "0diCTLluox-x",
        "outputId": "61e086ea-d85f-4ae8-9b32-6d0f3081ec59"
      },
      "source": [
        "data.head()"
      ],
      "execution_count": null,
      "outputs": [
        {
          "output_type": "execute_result",
          "data": {
            "text/html": [
              "<div>\n",
              "<style scoped>\n",
              "    .dataframe tbody tr th:only-of-type {\n",
              "        vertical-align: middle;\n",
              "    }\n",
              "\n",
              "    .dataframe tbody tr th {\n",
              "        vertical-align: top;\n",
              "    }\n",
              "\n",
              "    .dataframe thead th {\n",
              "        text-align: right;\n",
              "    }\n",
              "</style>\n",
              "<table border=\"1\" class=\"dataframe\">\n",
              "  <thead>\n",
              "    <tr style=\"text-align: right;\">\n",
              "      <th></th>\n",
              "      <th>datetime</th>\n",
              "      <th>season</th>\n",
              "      <th>holiday</th>\n",
              "      <th>workingday</th>\n",
              "      <th>weather</th>\n",
              "      <th>temp</th>\n",
              "      <th>atemp</th>\n",
              "      <th>humidity</th>\n",
              "      <th>windspeed</th>\n",
              "      <th>casual</th>\n",
              "      <th>registered</th>\n",
              "      <th>count</th>\n",
              "    </tr>\n",
              "  </thead>\n",
              "  <tbody>\n",
              "    <tr>\n",
              "      <th>0</th>\n",
              "      <td>2011-01-01 00:00:00</td>\n",
              "      <td>1</td>\n",
              "      <td>0</td>\n",
              "      <td>0</td>\n",
              "      <td>1</td>\n",
              "      <td>9.84</td>\n",
              "      <td>14.395</td>\n",
              "      <td>81</td>\n",
              "      <td>0.0</td>\n",
              "      <td>3</td>\n",
              "      <td>13</td>\n",
              "      <td>16</td>\n",
              "    </tr>\n",
              "    <tr>\n",
              "      <th>1</th>\n",
              "      <td>2011-01-01 01:00:00</td>\n",
              "      <td>1</td>\n",
              "      <td>0</td>\n",
              "      <td>0</td>\n",
              "      <td>1</td>\n",
              "      <td>9.02</td>\n",
              "      <td>13.635</td>\n",
              "      <td>80</td>\n",
              "      <td>0.0</td>\n",
              "      <td>8</td>\n",
              "      <td>32</td>\n",
              "      <td>40</td>\n",
              "    </tr>\n",
              "    <tr>\n",
              "      <th>2</th>\n",
              "      <td>2011-01-01 02:00:00</td>\n",
              "      <td>1</td>\n",
              "      <td>0</td>\n",
              "      <td>0</td>\n",
              "      <td>1</td>\n",
              "      <td>9.02</td>\n",
              "      <td>13.635</td>\n",
              "      <td>80</td>\n",
              "      <td>0.0</td>\n",
              "      <td>5</td>\n",
              "      <td>27</td>\n",
              "      <td>32</td>\n",
              "    </tr>\n",
              "    <tr>\n",
              "      <th>3</th>\n",
              "      <td>2011-01-01 03:00:00</td>\n",
              "      <td>1</td>\n",
              "      <td>0</td>\n",
              "      <td>0</td>\n",
              "      <td>1</td>\n",
              "      <td>9.84</td>\n",
              "      <td>14.395</td>\n",
              "      <td>75</td>\n",
              "      <td>0.0</td>\n",
              "      <td>3</td>\n",
              "      <td>10</td>\n",
              "      <td>13</td>\n",
              "    </tr>\n",
              "    <tr>\n",
              "      <th>4</th>\n",
              "      <td>2011-01-01 04:00:00</td>\n",
              "      <td>1</td>\n",
              "      <td>0</td>\n",
              "      <td>0</td>\n",
              "      <td>1</td>\n",
              "      <td>9.84</td>\n",
              "      <td>14.395</td>\n",
              "      <td>75</td>\n",
              "      <td>0.0</td>\n",
              "      <td>0</td>\n",
              "      <td>1</td>\n",
              "      <td>1</td>\n",
              "    </tr>\n",
              "  </tbody>\n",
              "</table>\n",
              "</div>"
            ],
            "text/plain": [
              "              datetime  season  holiday  ...  casual  registered  count\n",
              "0  2011-01-01 00:00:00       1        0  ...       3          13     16\n",
              "1  2011-01-01 01:00:00       1        0  ...       8          32     40\n",
              "2  2011-01-01 02:00:00       1        0  ...       5          27     32\n",
              "3  2011-01-01 03:00:00       1        0  ...       3          10     13\n",
              "4  2011-01-01 04:00:00       1        0  ...       0           1      1\n",
              "\n",
              "[5 rows x 12 columns]"
            ]
          },
          "metadata": {
            "tags": []
          },
          "execution_count": 3
        }
      ]
    },
    {
      "cell_type": "code",
      "metadata": {
        "colab": {
          "base_uri": "https://localhost:8080/"
        },
        "id": "6-tVN0fBpX0Q",
        "outputId": "8db2b275-ec6f-4a59-f4c8-96a43d44908b"
      },
      "source": [
        "data.shape"
      ],
      "execution_count": null,
      "outputs": [
        {
          "output_type": "execute_result",
          "data": {
            "text/plain": [
              "(10886, 12)"
            ]
          },
          "metadata": {
            "tags": []
          },
          "execution_count": 4
        }
      ]
    },
    {
      "cell_type": "markdown",
      "metadata": {
        "id": "0ntZe1pv0alj"
      },
      "source": [
        "이 데이터는 10886개의 데이터와 12개의 feature들로 구성되어 있습니다."
      ]
    },
    {
      "cell_type": "code",
      "metadata": {
        "colab": {
          "base_uri": "https://localhost:8080/"
        },
        "id": "3QgHmqRNpGRU",
        "outputId": "642a3088-9244-4231-955a-ea278d65d304"
      },
      "source": [
        "data.info()"
      ],
      "execution_count": null,
      "outputs": [
        {
          "output_type": "stream",
          "text": [
            "<class 'pandas.core.frame.DataFrame'>\n",
            "RangeIndex: 10886 entries, 0 to 10885\n",
            "Data columns (total 12 columns):\n",
            " #   Column      Non-Null Count  Dtype  \n",
            "---  ------      --------------  -----  \n",
            " 0   datetime    10886 non-null  object \n",
            " 1   season      10886 non-null  int64  \n",
            " 2   holiday     10886 non-null  int64  \n",
            " 3   workingday  10886 non-null  int64  \n",
            " 4   weather     10886 non-null  int64  \n",
            " 5   temp        10886 non-null  float64\n",
            " 6   atemp       10886 non-null  float64\n",
            " 7   humidity    10886 non-null  int64  \n",
            " 8   windspeed   10886 non-null  float64\n",
            " 9   casual      10886 non-null  int64  \n",
            " 10  registered  10886 non-null  int64  \n",
            " 11  count       10886 non-null  int64  \n",
            "dtypes: float64(3), int64(8), object(1)\n",
            "memory usage: 1020.7+ KB\n"
          ],
          "name": "stdout"
        }
      ]
    },
    {
      "cell_type": "markdown",
      "metadata": {
        "id": "03noLkg-0o2X"
      },
      "source": [
        "현재 datetime변수를 제외하고는 모두 수치형 값으로 나타내어져 있지만, 추후에 범주형 변수로의 변환이 필요할 수 있습니다."
      ]
    },
    {
      "cell_type": "code",
      "metadata": {
        "colab": {
          "base_uri": "https://localhost:8080/",
          "height": 297
        },
        "id": "YDBa2hjOpGsp",
        "outputId": "0f5b9cfc-366c-4a4c-d5ae-0358e20a8b7e"
      },
      "source": [
        "data.describe()"
      ],
      "execution_count": null,
      "outputs": [
        {
          "output_type": "execute_result",
          "data": {
            "text/html": [
              "<div>\n",
              "<style scoped>\n",
              "    .dataframe tbody tr th:only-of-type {\n",
              "        vertical-align: middle;\n",
              "    }\n",
              "\n",
              "    .dataframe tbody tr th {\n",
              "        vertical-align: top;\n",
              "    }\n",
              "\n",
              "    .dataframe thead th {\n",
              "        text-align: right;\n",
              "    }\n",
              "</style>\n",
              "<table border=\"1\" class=\"dataframe\">\n",
              "  <thead>\n",
              "    <tr style=\"text-align: right;\">\n",
              "      <th></th>\n",
              "      <th>season</th>\n",
              "      <th>holiday</th>\n",
              "      <th>workingday</th>\n",
              "      <th>weather</th>\n",
              "      <th>temp</th>\n",
              "      <th>atemp</th>\n",
              "      <th>humidity</th>\n",
              "      <th>windspeed</th>\n",
              "      <th>casual</th>\n",
              "      <th>registered</th>\n",
              "      <th>count</th>\n",
              "    </tr>\n",
              "  </thead>\n",
              "  <tbody>\n",
              "    <tr>\n",
              "      <th>count</th>\n",
              "      <td>10886.000000</td>\n",
              "      <td>10886.000000</td>\n",
              "      <td>10886.000000</td>\n",
              "      <td>10886.000000</td>\n",
              "      <td>10886.00000</td>\n",
              "      <td>10886.000000</td>\n",
              "      <td>10886.000000</td>\n",
              "      <td>10886.000000</td>\n",
              "      <td>10886.000000</td>\n",
              "      <td>10886.000000</td>\n",
              "      <td>10886.000000</td>\n",
              "    </tr>\n",
              "    <tr>\n",
              "      <th>mean</th>\n",
              "      <td>2.506614</td>\n",
              "      <td>0.028569</td>\n",
              "      <td>0.680875</td>\n",
              "      <td>1.418427</td>\n",
              "      <td>20.23086</td>\n",
              "      <td>23.655084</td>\n",
              "      <td>61.886460</td>\n",
              "      <td>12.799395</td>\n",
              "      <td>36.021955</td>\n",
              "      <td>155.552177</td>\n",
              "      <td>191.574132</td>\n",
              "    </tr>\n",
              "    <tr>\n",
              "      <th>std</th>\n",
              "      <td>1.116174</td>\n",
              "      <td>0.166599</td>\n",
              "      <td>0.466159</td>\n",
              "      <td>0.633839</td>\n",
              "      <td>7.79159</td>\n",
              "      <td>8.474601</td>\n",
              "      <td>19.245033</td>\n",
              "      <td>8.164537</td>\n",
              "      <td>49.960477</td>\n",
              "      <td>151.039033</td>\n",
              "      <td>181.144454</td>\n",
              "    </tr>\n",
              "    <tr>\n",
              "      <th>min</th>\n",
              "      <td>1.000000</td>\n",
              "      <td>0.000000</td>\n",
              "      <td>0.000000</td>\n",
              "      <td>1.000000</td>\n",
              "      <td>0.82000</td>\n",
              "      <td>0.760000</td>\n",
              "      <td>0.000000</td>\n",
              "      <td>0.000000</td>\n",
              "      <td>0.000000</td>\n",
              "      <td>0.000000</td>\n",
              "      <td>1.000000</td>\n",
              "    </tr>\n",
              "    <tr>\n",
              "      <th>25%</th>\n",
              "      <td>2.000000</td>\n",
              "      <td>0.000000</td>\n",
              "      <td>0.000000</td>\n",
              "      <td>1.000000</td>\n",
              "      <td>13.94000</td>\n",
              "      <td>16.665000</td>\n",
              "      <td>47.000000</td>\n",
              "      <td>7.001500</td>\n",
              "      <td>4.000000</td>\n",
              "      <td>36.000000</td>\n",
              "      <td>42.000000</td>\n",
              "    </tr>\n",
              "    <tr>\n",
              "      <th>50%</th>\n",
              "      <td>3.000000</td>\n",
              "      <td>0.000000</td>\n",
              "      <td>1.000000</td>\n",
              "      <td>1.000000</td>\n",
              "      <td>20.50000</td>\n",
              "      <td>24.240000</td>\n",
              "      <td>62.000000</td>\n",
              "      <td>12.998000</td>\n",
              "      <td>17.000000</td>\n",
              "      <td>118.000000</td>\n",
              "      <td>145.000000</td>\n",
              "    </tr>\n",
              "    <tr>\n",
              "      <th>75%</th>\n",
              "      <td>4.000000</td>\n",
              "      <td>0.000000</td>\n",
              "      <td>1.000000</td>\n",
              "      <td>2.000000</td>\n",
              "      <td>26.24000</td>\n",
              "      <td>31.060000</td>\n",
              "      <td>77.000000</td>\n",
              "      <td>16.997900</td>\n",
              "      <td>49.000000</td>\n",
              "      <td>222.000000</td>\n",
              "      <td>284.000000</td>\n",
              "    </tr>\n",
              "    <tr>\n",
              "      <th>max</th>\n",
              "      <td>4.000000</td>\n",
              "      <td>1.000000</td>\n",
              "      <td>1.000000</td>\n",
              "      <td>4.000000</td>\n",
              "      <td>41.00000</td>\n",
              "      <td>45.455000</td>\n",
              "      <td>100.000000</td>\n",
              "      <td>56.996900</td>\n",
              "      <td>367.000000</td>\n",
              "      <td>886.000000</td>\n",
              "      <td>977.000000</td>\n",
              "    </tr>\n",
              "  </tbody>\n",
              "</table>\n",
              "</div>"
            ],
            "text/plain": [
              "             season       holiday  ...    registered         count\n",
              "count  10886.000000  10886.000000  ...  10886.000000  10886.000000\n",
              "mean       2.506614      0.028569  ...    155.552177    191.574132\n",
              "std        1.116174      0.166599  ...    151.039033    181.144454\n",
              "min        1.000000      0.000000  ...      0.000000      1.000000\n",
              "25%        2.000000      0.000000  ...     36.000000     42.000000\n",
              "50%        3.000000      0.000000  ...    118.000000    145.000000\n",
              "75%        4.000000      0.000000  ...    222.000000    284.000000\n",
              "max        4.000000      1.000000  ...    886.000000    977.000000\n",
              "\n",
              "[8 rows x 11 columns]"
            ]
          },
          "metadata": {
            "tags": []
          },
          "execution_count": 6
        }
      ]
    },
    {
      "cell_type": "markdown",
      "metadata": {
        "id": "0ZkAP_SMpkTO"
      },
      "source": [
        "## 1-2 변수 파악\r\n"
      ]
    },
    {
      "cell_type": "markdown",
      "metadata": {
        "id": "2lLqxseAqgT0"
      },
      "source": [
        "- **datetime** - hourly date + timestamp\r\n",
        "- **season**\r\n",
        "  - 1 = spring\r\n",
        "  - 2 = summer\r\n",
        "  - 3 = fall\r\n",
        "  - 4 = winter\r\n",
        "- **holiday** - whether the day is considered a holiday\r\n",
        "- **workingday** - whether the day is neither a weekend nor holiday\r\n",
        "- **weather**\r\n",
        "  - 1: Clear, Few clouds, Partly cloudy, Partly cloudy\r\n",
        "  - 2: Mist + Cloudy, Mist + Broken clouds, Mist + Few clouds, Mist\r\n",
        "  - 3: Light Snow, Light Rain + Thunderstorm + Scattered clouds, Light Rain + Scattered clouds\r\n",
        "  - 4: Heavy Rain + Ice Pallets + Thunderstorm + Mist, Snow + Fog \r\n",
        "- **temp** - temperature in Celsius\r\n",
        "- **atemp** - \"feels like\" temperature in Celsius\r\n",
        "- **humidity** - relative humidity\r\n",
        "- **windspeed** - wind speed\r\n",
        "- **casual** - number of non-registered user rentals initiated\r\n",
        "- **registered** - number of registered user rentals initiated\r\n",
        "- **count** - number of total rentals"
      ]
    },
    {
      "cell_type": "markdown",
      "metadata": {
        "id": "CfX3KCnt07ON"
      },
      "source": [
        "1개의 날짜변수 (datetime)과 4개의 범주형 변수 (season, holiday, workingday, weather), 7개의 수치형 변수 (temp, atemp, humidity, windspeed, casual, registered, count)로 이루어져 있습니다.  \r\n",
        "이때 총 대여 수를 의미하는 `count`변수를 타깃 변수로 삼는다면, 유의미한 분석 결과를 얻어낼 수 있을 것이라 생각합니다."
      ]
    },
    {
      "cell_type": "code",
      "metadata": {
        "colab": {
          "base_uri": "https://localhost:8080/"
        },
        "id": "QEEhDvPlpKHN",
        "outputId": "7b5ce18b-6baa-49a0-a376-be9bb1075c85"
      },
      "source": [
        "data.columns"
      ],
      "execution_count": null,
      "outputs": [
        {
          "output_type": "execute_result",
          "data": {
            "text/plain": [
              "Index(['datetime', 'season', 'holiday', 'workingday', 'weather', 'temp',\n",
              "       'atemp', 'humidity', 'windspeed', 'casual', 'registered', 'count'],\n",
              "      dtype='object')"
            ]
          },
          "metadata": {
            "tags": []
          },
          "execution_count": 7
        }
      ]
    },
    {
      "cell_type": "code",
      "metadata": {
        "colab": {
          "base_uri": "https://localhost:8080/"
        },
        "id": "0NakiE9spf9f",
        "outputId": "39e90035-6ed2-4eb2-b0ca-b5a6066b12a6"
      },
      "source": [
        "#변수 name 단순화\r\n",
        "data.rename(columns={'holiday':'h_day',\r\n",
        "                   'workingday':'w_day',}, inplace=True)\r\n",
        "data.columns\r\n",
        "\r\n",
        "#'count' 변수 이름 변경\r\n",
        "data.rename(columns={'count':'num'}, inplace=True)\r\n",
        "data.columns"
      ],
      "execution_count": null,
      "outputs": [
        {
          "output_type": "execute_result",
          "data": {
            "text/plain": [
              "Index(['datetime', 'season', 'h_day', 'w_day', 'weather', 'temp', 'atemp',\n",
              "       'humidity', 'windspeed', 'casual', 'registered', 'num'],\n",
              "      dtype='object')"
            ]
          },
          "metadata": {
            "tags": []
          },
          "execution_count": 8
        }
      ]
    },
    {
      "cell_type": "markdown",
      "metadata": {
        "id": "5xVofLi71Z2y"
      },
      "source": [
        "`holiday`와 `workingday`는 각각 `h_day`, `w_day`로 변경해주었으며, Python에서 고유하게 쓰이는 `count`라는 변수 이름에 혼동이 올 확률이 있으므로 `num`이라는 변수로 바꿔줍니다."
      ]
    },
    {
      "cell_type": "markdown",
      "metadata": {
        "id": "bQF2wZe62n3e"
      },
      "source": [
        "범주형 변수의 Class 개수를 파악합니다"
      ]
    },
    {
      "cell_type": "code",
      "metadata": {
        "colab": {
          "base_uri": "https://localhost:8080/"
        },
        "id": "jZVoAeD2rA_Q",
        "outputId": "5324e532-164a-4a15-eed1-b441871f37a8"
      },
      "source": [
        "#범주형 변수\r\n",
        "print('season: {}'.format(len(np.unique(data.season))))\r\n",
        "print('holiday : {}'.format(len(np.unique(data.h_day))))\r\n",
        "print('workingday : {}'.format(len(np.unique(data.w_day))))\r\n",
        "print('weather : {}'.format(len(np.unique(data.weather))))"
      ],
      "execution_count": null,
      "outputs": [
        {
          "output_type": "stream",
          "text": [
            "season: 4\n",
            "holiday : 2\n",
            "workingday : 2\n",
            "weather : 4\n"
          ],
          "name": "stdout"
        }
      ]
    },
    {
      "cell_type": "markdown",
      "metadata": {
        "id": "peOa7uDWtnDL"
      },
      "source": [
        "어느 데이터도 속해있지 않는 범주형 변수의 class는 없다는 것을 알 수 있습니다."
      ]
    },
    {
      "cell_type": "markdown",
      "metadata": {
        "id": "JPdvzy1K2vsN"
      },
      "source": [
        "Countplot을 통해 전체 데이터에 범주형 변수가 어떻게 분포되어 있는지를 확인합니다."
      ]
    },
    {
      "cell_type": "code",
      "metadata": {
        "colab": {
          "base_uri": "https://localhost:8080/",
          "height": 315
        },
        "id": "2KQXXzK5tlI2",
        "outputId": "157666df-ede0-4f04-86ad-f05b4c2afd4c"
      },
      "source": [
        "sns.countplot(x='weather', data=data, saturation=0.5, palette= 'Set1')\r\n",
        "Counter(data['weather'])"
      ],
      "execution_count": null,
      "outputs": [
        {
          "output_type": "execute_result",
          "data": {
            "text/plain": [
              "Counter({1: 7192, 2: 2834, 3: 859, 4: 1})"
            ]
          },
          "metadata": {
            "tags": []
          },
          "execution_count": 10
        },
        {
          "output_type": "stream",
          "text": [
            "findfont: Font family ['Nanum Gothic'] not found. Falling back to DejaVu Sans.\n",
            "findfont: Font family ['Nanum Gothic'] not found. Falling back to DejaVu Sans.\n"
          ],
          "name": "stderr"
        },
        {
          "output_type": "display_data",
          "data": {
            "image/png": "[encoded data removed]",
            "text/plain": [
              "<Figure size 432x288 with 1 Axes>"
            ]
          },
          "metadata": {
            "tags": [],
            "needs_background": "light"
          }
        }
      ]
    },
    {
      "cell_type": "markdown",
      "metadata": {
        "id": "sr3-1JOi20sc"
      },
      "source": [
        "Heavy Rain + Ice Pallets + Thunderstorm + Mist, Snow + Fog (4) 혹은 Light Snow, Light Rain + Thunderstorm + Scattered clouds, Light Rain + Scattered clouds (3) 를 동반하는 날씨는 일반적이지 않기 때문에 1,2 class에 비해 비율이 현저히 적으며, 4에 해당하는 data는 하나밖에 없다. "
      ]
    },
    {
      "cell_type": "code",
      "metadata": {
        "colab": {
          "base_uri": "https://localhost:8080/",
          "height": 297
        },
        "id": "aZKIt3hFscyP",
        "outputId": "56097ce6-764b-4ab5-c90b-81428fcdfea0"
      },
      "source": [
        "sns.countplot(x='season', data=data, saturation=0.5, palette= 'Set1')\r\n",
        "Counter(data['season'])"
      ],
      "execution_count": null,
      "outputs": [
        {
          "output_type": "execute_result",
          "data": {
            "text/plain": [
              "Counter({1: 2686, 2: 2733, 3: 2733, 4: 2734})"
            ]
          },
          "metadata": {
            "tags": []
          },
          "execution_count": 11
        },
        {
          "output_type": "display_data",
          "data": {
            "image/png": "[encoded data removed]",
            "text/plain": [
              "<Figure size 432x288 with 1 Axes>"
            ]
          },
          "metadata": {
            "tags": [],
            "needs_background": "light"
          }
        }
      ]
    },
    {
      "cell_type": "code",
      "metadata": {
        "colab": {
          "base_uri": "https://localhost:8080/",
          "height": 298
        },
        "id": "qEJc00uurLZP",
        "outputId": "7d9d968b-4ba6-47dd-e85a-87749e57a67a"
      },
      "source": [
        "sns.countplot(x='h_day', data=data, saturation=0.5, palette= 'Set1')\r\n",
        "Counter(data['h_day'])"
      ],
      "execution_count": null,
      "outputs": [
        {
          "output_type": "execute_result",
          "data": {
            "text/plain": [
              "Counter({0: 10575, 1: 311})"
            ]
          },
          "metadata": {
            "tags": []
          },
          "execution_count": 12
        },
        {
          "output_type": "display_data",
          "data": {
            "image/png": "[encoded data removed]",
            "text/plain": [
              "<Figure size 432x288 with 1 Axes>"
            ]
          },
          "metadata": {
            "tags": [],
            "needs_background": "light"
          }
        }
      ]
    },
    {
      "cell_type": "code",
      "metadata": {
        "colab": {
          "base_uri": "https://localhost:8080/",
          "height": 298
        },
        "id": "UTW4KJpls-aR",
        "outputId": "8a09d38b-fce8-407b-e14b-e363130a87f6"
      },
      "source": [
        "sns.countplot(x='w_day', data=data, saturation=0.5, palette= 'Set1')\r\n",
        "Counter(data['w_day'])"
      ],
      "execution_count": null,
      "outputs": [
        {
          "output_type": "execute_result",
          "data": {
            "text/plain": [
              "Counter({0: 3474, 1: 7412})"
            ]
          },
          "metadata": {
            "tags": []
          },
          "execution_count": 13
        },
        {
          "output_type": "display_data",
          "data": {
            "image/png": "[encoded data removed]",
            "text/plain": [
              "<Figure size 432x288 with 1 Axes>"
            ]
          },
          "metadata": {
            "tags": [],
            "needs_background": "light"
          }
        }
      ]
    },
    {
      "cell_type": "markdown",
      "metadata": {
        "id": "0p1yIZL-3WeI"
      },
      "source": [
        "Holiday는 전체 데이터 중 굉장히 낮은 비율을 차지하고 있으며, working day에서의 class 비율은 약 1:2 가량이다. "
      ]
    },
    {
      "cell_type": "markdown",
      "metadata": {
        "id": "LSuZkeJlt0Ph"
      },
      "source": [
        "# 2. Preprocessing"
      ]
    },
    {
      "cell_type": "markdown",
      "metadata": {
        "id": "Hb7f-dzqt6Ky"
      },
      "source": [
        "## 2-1 결측치 확인"
      ]
    },
    {
      "cell_type": "code",
      "metadata": {
        "colab": {
          "base_uri": "https://localhost:8080/"
        },
        "id": "_YU_M4G8t5hL",
        "outputId": "88413439-49e3-4e8e-8674-501656b10401"
      },
      "source": [
        "data.isna().sum()"
      ],
      "execution_count": null,
      "outputs": [
        {
          "output_type": "execute_result",
          "data": {
            "text/plain": [
              "datetime      0\n",
              "season        0\n",
              "h_day         0\n",
              "w_day         0\n",
              "weather       0\n",
              "temp          0\n",
              "atemp         0\n",
              "humidity      0\n",
              "windspeed     0\n",
              "casual        0\n",
              "registered    0\n",
              "num           0\n",
              "dtype: int64"
            ]
          },
          "metadata": {
            "tags": []
          },
          "execution_count": 14
        }
      ]
    },
    {
      "cell_type": "code",
      "metadata": {
        "colab": {
          "base_uri": "https://localhost:8080/"
        },
        "id": "2wi12j24tEHs",
        "outputId": "5abe88b8-60ca-46f7-82c3-52cd47900c07"
      },
      "source": [
        "data.isnull().sum()"
      ],
      "execution_count": null,
      "outputs": [
        {
          "output_type": "execute_result",
          "data": {
            "text/plain": [
              "datetime      0\n",
              "season        0\n",
              "h_day         0\n",
              "w_day         0\n",
              "weather       0\n",
              "temp          0\n",
              "atemp         0\n",
              "humidity      0\n",
              "windspeed     0\n",
              "casual        0\n",
              "registered    0\n",
              "num           0\n",
              "dtype: int64"
            ]
          },
          "metadata": {
            "tags": []
          },
          "execution_count": 15
        }
      ]
    },
    {
      "cell_type": "markdown",
      "metadata": {
        "id": "aXbUETJ03lQl"
      },
      "source": [
        "결측치는 없다는 것을 확인하였습니다."
      ]
    },
    {
      "cell_type": "markdown",
      "metadata": {
        "id": "YhtGP9iL3oq5"
      },
      "source": [
        "## 2-2 이상치 확인"
      ]
    },
    {
      "cell_type": "markdown",
      "metadata": {
        "id": "qLJflL-P3roy"
      },
      "source": [
        "결측치는 존재하지 않지만 이상치가 존재할 경우 제거해야 하기 때문에 변수들의 값을 확인하는 과정을 거칩니다.\r\n"
      ]
    },
    {
      "cell_type": "code",
      "metadata": {
        "colab": {
          "base_uri": "https://localhost:8080/"
        },
        "id": "eOdOVhrJt_nB",
        "outputId": "2d372741-5206-41b8-e128-6455f75a1e03"
      },
      "source": [
        "print(data['datetime'].unique())\r\n",
        "print(data['temp'].unique())\r\n",
        "print(data['atemp'].unique())\r\n",
        "print(data['humidity'].unique())\r\n",
        "print(data['windspeed'].unique())\r\n",
        "print(data['casual'].unique())\r\n",
        "print(data['registered'].unique())\r\n",
        "print(data['num'].unique())"
      ],
      "execution_count": null,
      "outputs": [
        {
          "output_type": "stream",
          "text": [
            "['2011-01-01 00:00:00' '2011-01-01 01:00:00' '2011-01-01 02:00:00' ...\n",
            " '2012-12-19 21:00:00' '2012-12-19 22:00:00' '2012-12-19 23:00:00']\n",
            "[ 9.84  9.02  8.2  13.12 15.58 14.76 17.22 18.86 18.04 16.4  13.94 12.3\n",
            " 10.66  6.56  5.74  7.38  4.92 11.48  4.1   3.28  2.46 21.32 22.96 23.78\n",
            " 24.6  19.68 22.14 20.5  27.06 26.24 25.42 27.88 28.7  30.34 31.16 29.52\n",
            " 33.62 35.26 36.9  32.8  31.98 34.44 36.08 37.72 38.54  1.64  0.82 39.36\n",
            " 41.  ]\n",
            "[14.395 13.635 12.88  17.425 19.695 16.665 21.21  22.725 21.97  20.455\n",
            " 11.365 10.605  9.85   8.335  6.82   5.305  6.06   9.09  12.12   7.575\n",
            " 15.91   3.03   3.79   4.545 15.15  18.18  25.    26.515 27.275 29.545\n",
            " 23.485 25.76  31.06  30.305 24.24  18.94  31.82  32.575 33.335 28.79\n",
            " 34.85  35.605 37.12  40.15  41.665 40.91  39.395 34.09  28.03  36.365\n",
            " 37.88  42.425 43.94  38.635  1.515  0.76   2.275 43.18  44.695 45.455]\n",
            "[ 81  80  75  86  76  77  72  82  88  87  94 100  71  66  57  46  42  39\n",
            "  44  47  50  43  40  35  30  32  64  69  55  59  63  68  74  51  56  52\n",
            "  49  48  37  33  28  38  36  93  29  53  34  54  41  45  92  62  58  61\n",
            "  60  65  70  27  25  26  31  73  21  24  23  22  19  15  67  10   8  12\n",
            "  14  13  17  16  18  20  85   0  83  84  78  79  89  97  90  96  91]\n",
            "[ 0.      6.0032 16.9979 19.0012 19.9995 12.998  15.0013  8.9981 11.0014\n",
            " 22.0028 30.0026 23.9994 27.9993 26.0027  7.0015 32.9975 36.9974 31.0009\n",
            " 35.0008 39.0007 43.9989 40.9973 51.9987 46.0022 50.0021 43.0006 56.9969\n",
            " 47.9988]\n",
            "[  3   8   5   0   2   1  12  26  29  47  35  40  41  15   9   6  11   4\n",
            "   7  16  20  19  10  13  14  18  17  21  33  23  22  28  48  52  42  24\n",
            "  30  27  32  58  62  51  25  31  59  45  73  55  68  34  38 102  84  39\n",
            "  36  43  46  60  80  83  74  37  70  81 100  99  54  88  97 144 149 124\n",
            "  98  50  72  57  71  67  95  90 126 174 168 170 175 138  92  56 111  89\n",
            "  69 139 166 219 240 147 148  78  53  63  79 114  94  85 128  93 121 156\n",
            " 135 103  44  49  64  91 119 167 181 179 161 143  75  66 109 123 113  65\n",
            "  86  82 132 129 196 142 122 106  61 107 120 195 183 206 158 137  76 115\n",
            " 150 188 193 180 127 154 108  96 110 112 169 131 176 134 162 153 210 118\n",
            " 141 146 159 178 177 136 215 198 248 225 194 237 242 235 224 236 222  77\n",
            "  87 101 145 182 171 160 133 105 104 187 221 201 205 234 185 164 200 130\n",
            " 155 116 125 204 186 214 245 218 217 152 191 256 251 262 189 212 272 223\n",
            " 208 165 229 151 117 199 140 226 286 352 357 367 291 233 190 283 295 232\n",
            " 173 184 172 320 355 326 321 354 299 227 254 260 207 274 308 288 311 253\n",
            " 197 163 275 298 282 266 220 241 230 157 293 257 269 255 228 276 332 361\n",
            " 356 331 279 203 250 259 297 265 267 192 239 238 213 264 244 243 246 289\n",
            " 287 209 263 249 247 284 327 325 312 350 258 362 310 317 268 202 294 280\n",
            " 216 292 304]\n",
            "[ 13  32  27  10   1   0   2   7   6  24  30  55  47  71  70  52  26  31\n",
            "  25  17  16   8   4  19  46  54  73  64  67  58  43  29  20   9   5   3\n",
            "  63 153  81  33  41  48  53  66 146 148 102  49  11  36  92 177  98  37\n",
            "  50  79  68 202 179 110  34  87 192 109  74  65  85 186 166 127  82  40\n",
            "  18  95 216 116  42  57  78  59 163 158  51  76 190 125 178  39  14  15\n",
            "  56  60  90  83  69  28  35  22  12  77  44  38  75 184 174 154  97 214\n",
            "  45  72 130  94 139 135 197 137 141 156 117 155 134  89  80 108  61 124\n",
            " 132 196 107 114 172 165 105 119 183 175  88  62  86 170 145 217  91 195\n",
            " 152  21 126 115 223 207 123 236 128 151 100 198 157 168  84  99 173 121\n",
            " 159  93  23 212 111 193 103 113 122 106  96 249 218 194 213 191 142 224\n",
            " 244 143 267 256 211 161 131 246 118 164 275 204 230 243 112 238 144 185\n",
            " 101 222 138 206 104 200 129 247 140 209 136 176 120 229 210 133 259 147\n",
            " 227 150 282 162 265 260 189 237 245 205 308 283 248 303 291 280 208 286\n",
            " 352 290 262 203 284 293 160 182 316 338 279 187 277 362 321 331 372 377\n",
            " 350 220 472 450 268 435 169 225 464 485 323 388 367 266 255 415 233 467\n",
            " 456 305 171 470 385 253 215 240 235 263 221 351 539 458 339 301 397 271\n",
            " 532 480 365 241 421 242 234 341 394 540 463 361 429 359 180 188 261 254\n",
            " 366 181 398 272 167 149 325 521 426 298 428 487 431 288 239 453 454 345\n",
            " 417 434 278 285 442 484 451 252 471 488 270 258 264 281 410 516 500 343\n",
            " 311 432 475 479 355 329 199 400 414 423 232 219 302 529 510 348 346 441\n",
            " 473 335 445 555 527 273 364 299 269 257 342 324 226 391 466 297 517 486\n",
            " 489 492 228 289 455 382 380 295 251 418 412 340 433 231 333 514 483 276\n",
            " 478 287 381 334 347 320 493 491 369 201 408 378 443 460 465 313 513 292\n",
            " 497 376 326 413 328 525 296 452 506 393 368 337 567 462 349 319 300 515\n",
            " 373 399 507 396 512 503 386 427 312 384 530 310 536 437 505 371 375 534\n",
            " 469 474 553 402 274 523 448 409 387 438 407 250 459 425 422 379 392 430\n",
            " 401 306 370 449 363 389 374 436 356 317 446 294 508 315 522 494 327 495\n",
            " 404 447 504 318 579 551 498 533 332 554 509 573 545 395 440 547 557 623\n",
            " 571 614 638 628 642 647 602 634 648 353 322 357 314 563 615 681 601 543\n",
            " 577 354 661 653 304 645 646 419 610 677 618 595 565 586 670 656 626 581\n",
            " 546 604 596 383 621 564 309 360 330 549 589 461 631 673 358 651 663 538\n",
            " 616 662 344 640 659 770 608 617 584 307 667 605 641 594 629 603 518 665\n",
            " 769 749 499 719 734 696 688 570 675 405 411 643 733 390 680 764 679 531\n",
            " 637 652 778 703 537 576 613 715 726 598 625 444 672 782 548 682 750 716\n",
            " 609 698 572 669 633 725 704 658 620 542 575 511 741 790 644 740 735 560\n",
            " 739 439 660 697 336 619 712 624 580 678 684 468 649 786 718 775 636 578\n",
            " 746 743 481 664 711 689 751 745 424 699 552 709 591 757 768 767 723 558\n",
            " 561 403 502 692 780 622 761 690 744 857 562 702 802 727 811 886 406 787\n",
            " 496 708 758 812 807 791 639 781 833 756 544 789 742 655 416 806 773 737\n",
            " 706 566 713 800 839 779 766 794 803 788 720 668 490 568 597 477 583 501\n",
            " 556 593 420 541 694 650 559 666 700 693 582]\n",
            "[ 16  40  32  13   1   2   3   8  14  36  56  84  94 106 110  93  67  35\n",
            "  37  34  28  39  17   9   6  20  53  70  75  59  74  76  65  30  22  31\n",
            "   5  64 154  88  44  51  61  77  72 157  52  12   4 179 100  42  57  78\n",
            "  97  63  83 212 182 112  54  48  11  33 195 115  46  79  71  62  89 190\n",
            " 169 132  43  19  95 219 122  45  86 172 163  69  23   7 210 134  73  50\n",
            "  87 187 123  15  25  98 102  55  10  49  82  92  41  38 188  47 178 155\n",
            "  24  18  27  99 217 130 136  29 128  81  68 139 137 202  60 162 144 158\n",
            " 117  90 159 101 118 129  26 104  91 113 105  21  80 125 133 197 109 161\n",
            " 135 116 176 168 108 103 175 147  96 220 127 205 174 121 230  66 114 216\n",
            " 243 152 199  58 166 170 165 160 140 211 120 145 256 126 223  85 206 124\n",
            " 255 222 285 146 274 272 185 191 232 327 224 107 119 196 171 214 242 148\n",
            " 268 201 150 111 167 228 198 204 164 233 257 151 248 235 141 249 194 259\n",
            " 156 153 244 213 181 221 250 304 241 271 282 225 253 237 299 142 313 310\n",
            " 207 138 280 173 332 331 149 267 301 312 278 281 184 215 367 349 292 303\n",
            " 339 143 189 366 386 273 325 356 314 343 333 226 203 177 263 297 288 236\n",
            " 240 131 452 383 284 291 309 321 193 337 388 300 200 180 209 354 361 306\n",
            " 277 428 362 286 351 192 411 421 276 264 238 266 371 269 537 518 218 265\n",
            " 459 186 517 544 365 290 410 396 296 440 533 520 258 450 246 260 344 553\n",
            " 470 298 347 373 436 378 342 289 340 382 390 358 385 239 374 598 524 384\n",
            " 425 611 550 434 318 442 401 234 594 527 364 387 491 398 270 279 294 295\n",
            " 322 456 437 392 231 394 453 308 604 480 283 565 489 487 183 302 547 513\n",
            " 454 486 467 572 525 379 502 558 564 391 293 247 317 369 420 451 404 341\n",
            " 251 335 417 363 357 438 579 556 407 336 334 477 539 551 424 346 353 481\n",
            " 506 432 409 466 326 254 463 380 275 311 315 360 350 252 328 476 227 601\n",
            " 586 423 330 569 538 370 498 638 607 416 261 355 552 208 468 449 381 377\n",
            " 397 492 427 461 422 305 375 376 414 447 408 418 457 545 496 368 245 596\n",
            " 563 443 562 229 316 402 287 372 514 472 511 488 419 595 578 400 348 587\n",
            " 497 433 475 406 430 324 262 323 412 530 543 413 435 555 523 441 529 532\n",
            " 585 399 584 559 307 582 571 426 516 465 329 483 600 570 628 531 455 389\n",
            " 505 359 431 460 590 429 599 338 566 482 568 540 495 345 591 593 446 485\n",
            " 393 500 473 352 320 479 444 462 405 620 499 625 395 528 319 519 445 512\n",
            " 471 508 526 509 484 448 515 549 501 612 597 464 644 712 676 734 662 782\n",
            " 749 623 713 746 651 686 690 679 685 648 560 503 521 554 541 721 801 561\n",
            " 573 589 729 618 494 757 800 684 744 759 822 698 490 536 655 643 626 615\n",
            " 567 617 632 646 692 704 624 656 610 738 671 678 660 658 635 681 616 522\n",
            " 673 781 775 576 677 748 776 557 743 666 813 504 627 706 641 575 639 769\n",
            " 680 546 717 710 458 622 705 630 732 770 439 779 659 602 478 733 650 873\n",
            " 846 474 634 852 868 745 812 669 642 730 672 645 694 493 668 647 702 665\n",
            " 834 850 790 415 724 869 700 793 723 534 831 613 653 857 719 867 823 403\n",
            " 693 603 583 542 614 580 811 795 747 581 722 689 849 872 631 649 819 674\n",
            " 830 814 633 825 629 835 667 755 794 661 772 657 771 777 837 891 652 739\n",
            " 865 767 741 469 605 858 843 640 737 862 810 577 818 854 682 851 848 897\n",
            " 832 791 654 856 839 725 863 808 792 696 701 871 968 750 970 877 925 977\n",
            " 758 884 766 894 715 783 683 842 774 797 886 892 784 687 809 917 901 887\n",
            " 785 900 761 806 507 948 844 798 827 670 637 619 592 943 838 817 888 890\n",
            " 788 588 606 608 691 711 663 731 708 609 688 636]\n"
          ],
          "name": "stdout"
        }
      ]
    },
    {
      "cell_type": "markdown",
      "metadata": {
        "id": "zdJe6rmk33Al"
      },
      "source": [
        "특별히 눈에 띄는 값은 보이지 않는 것을 알 수 있습니다."
      ]
    },
    {
      "cell_type": "code",
      "metadata": {
        "colab": {
          "base_uri": "https://localhost:8080/",
          "height": 297
        },
        "id": "a0xu-wHBuHSD",
        "outputId": "26bb9cb4-a5e6-4f60-997a-ee8347df8c7f"
      },
      "source": [
        "numerical = ['temp','atemp','humidity','windspeed','casual','registered','num'] #datetime 제외\r\n",
        "data[numerical].describe()"
      ],
      "execution_count": null,
      "outputs": [
        {
          "output_type": "execute_result",
          "data": {
            "text/html": [
              "<div>\n",
              "<style scoped>\n",
              "    .dataframe tbody tr th:only-of-type {\n",
              "        vertical-align: middle;\n",
              "    }\n",
              "\n",
              "    .dataframe tbody tr th {\n",
              "        vertical-align: top;\n",
              "    }\n",
              "\n",
              "    .dataframe thead th {\n",
              "        text-align: right;\n",
              "    }\n",
              "</style>\n",
              "<table border=\"1\" class=\"dataframe\">\n",
              "  <thead>\n",
              "    <tr style=\"text-align: right;\">\n",
              "      <th></th>\n",
              "      <th>temp</th>\n",
              "      <th>atemp</th>\n",
              "      <th>humidity</th>\n",
              "      <th>windspeed</th>\n",
              "      <th>casual</th>\n",
              "      <th>registered</th>\n",
              "      <th>num</th>\n",
              "    </tr>\n",
              "  </thead>\n",
              "  <tbody>\n",
              "    <tr>\n",
              "      <th>count</th>\n",
              "      <td>10886.00000</td>\n",
              "      <td>10886.000000</td>\n",
              "      <td>10886.000000</td>\n",
              "      <td>10886.000000</td>\n",
              "      <td>10886.000000</td>\n",
              "      <td>10886.000000</td>\n",
              "      <td>10886.000000</td>\n",
              "    </tr>\n",
              "    <tr>\n",
              "      <th>mean</th>\n",
              "      <td>20.23086</td>\n",
              "      <td>23.655084</td>\n",
              "      <td>61.886460</td>\n",
              "      <td>12.799395</td>\n",
              "      <td>36.021955</td>\n",
              "      <td>155.552177</td>\n",
              "      <td>191.574132</td>\n",
              "    </tr>\n",
              "    <tr>\n",
              "      <th>std</th>\n",
              "      <td>7.79159</td>\n",
              "      <td>8.474601</td>\n",
              "      <td>19.245033</td>\n",
              "      <td>8.164537</td>\n",
              "      <td>49.960477</td>\n",
              "      <td>151.039033</td>\n",
              "      <td>181.144454</td>\n",
              "    </tr>\n",
              "    <tr>\n",
              "      <th>min</th>\n",
              "      <td>0.82000</td>\n",
              "      <td>0.760000</td>\n",
              "      <td>0.000000</td>\n",
              "      <td>0.000000</td>\n",
              "      <td>0.000000</td>\n",
              "      <td>0.000000</td>\n",
              "      <td>1.000000</td>\n",
              "    </tr>\n",
              "    <tr>\n",
              "      <th>25%</th>\n",
              "      <td>13.94000</td>\n",
              "      <td>16.665000</td>\n",
              "      <td>47.000000</td>\n",
              "      <td>7.001500</td>\n",
              "      <td>4.000000</td>\n",
              "      <td>36.000000</td>\n",
              "      <td>42.000000</td>\n",
              "    </tr>\n",
              "    <tr>\n",
              "      <th>50%</th>\n",
              "      <td>20.50000</td>\n",
              "      <td>24.240000</td>\n",
              "      <td>62.000000</td>\n",
              "      <td>12.998000</td>\n",
              "      <td>17.000000</td>\n",
              "      <td>118.000000</td>\n",
              "      <td>145.000000</td>\n",
              "    </tr>\n",
              "    <tr>\n",
              "      <th>75%</th>\n",
              "      <td>26.24000</td>\n",
              "      <td>31.060000</td>\n",
              "      <td>77.000000</td>\n",
              "      <td>16.997900</td>\n",
              "      <td>49.000000</td>\n",
              "      <td>222.000000</td>\n",
              "      <td>284.000000</td>\n",
              "    </tr>\n",
              "    <tr>\n",
              "      <th>max</th>\n",
              "      <td>41.00000</td>\n",
              "      <td>45.455000</td>\n",
              "      <td>100.000000</td>\n",
              "      <td>56.996900</td>\n",
              "      <td>367.000000</td>\n",
              "      <td>886.000000</td>\n",
              "      <td>977.000000</td>\n",
              "    </tr>\n",
              "  </tbody>\n",
              "</table>\n",
              "</div>"
            ],
            "text/plain": [
              "              temp         atemp  ...    registered           num\n",
              "count  10886.00000  10886.000000  ...  10886.000000  10886.000000\n",
              "mean      20.23086     23.655084  ...    155.552177    191.574132\n",
              "std        7.79159      8.474601  ...    151.039033    181.144454\n",
              "min        0.82000      0.760000  ...      0.000000      1.000000\n",
              "25%       13.94000     16.665000  ...     36.000000     42.000000\n",
              "50%       20.50000     24.240000  ...    118.000000    145.000000\n",
              "75%       26.24000     31.060000  ...    222.000000    284.000000\n",
              "max       41.00000     45.455000  ...    886.000000    977.000000\n",
              "\n",
              "[8 rows x 7 columns]"
            ]
          },
          "metadata": {
            "tags": []
          },
          "execution_count": 17
        }
      ]
    },
    {
      "cell_type": "markdown",
      "metadata": {
        "id": "8ByRKS4R36n1"
      },
      "source": [
        "수치형 변수 값을 그래프로 나타내어 이상치를 탐색합니다."
      ]
    },
    {
      "cell_type": "code",
      "metadata": {
        "colab": {
          "base_uri": "https://localhost:8080/",
          "height": 681
        },
        "id": "wsvdU8ijvDZ0",
        "outputId": "a4acb466-86d5-47d0-902c-d0a2f01abdbd"
      },
      "source": [
        "data[numerical].hist(bins=30, figsize=(15,10), color = 'g')\r\n",
        "plt.suptitle(\"Histogram (Numerical Variables)\", fontsize=12)"
      ],
      "execution_count": null,
      "outputs": [
        {
          "output_type": "execute_result",
          "data": {
            "text/plain": [
              "Text(0.5, 0.98, 'Histogram (Numerical Variables)')"
            ]
          },
          "metadata": {
            "tags": []
          },
          "execution_count": 18
        },
        {
          "output_type": "stream",
          "text": [
            "findfont: Font family ['Nanum Gothic'] not found. Falling back to DejaVu Sans.\n"
          ],
          "name": "stderr"
        },
        {
          "output_type": "display_data",
          "data": {
            "image/png": "[encoded data removed]",
            "text/plain": [
              "<Figure size 1080x720 with 9 Axes>"
            ]
          },
          "metadata": {
            "tags": [],
            "needs_background": "light"
          }
        }
      ]
    },
    {
      "cell_type": "markdown",
      "metadata": {
        "id": "06dSSwv5wNgh"
      },
      "source": [
        "특별히 이상치로 의심되는 값은 보이지 않는다는 것을 알 수 있습니다. "
      ]
    },
    {
      "cell_type": "markdown",
      "metadata": {
        "id": "-etSdLN04GPh"
      },
      "source": [
        "## 2-3 상관관계"
      ]
    },
    {
      "cell_type": "markdown",
      "metadata": {
        "id": "hOAMt7sA4JTG"
      },
      "source": [
        "데이터의 수치형 변수 간의 상관관계를 파악합니다."
      ]
    },
    {
      "cell_type": "code",
      "metadata": {
        "colab": {
          "base_uri": "https://localhost:8080/",
          "height": 266
        },
        "id": "k542kWgtvF3d",
        "outputId": "d21bc82d-bb2e-402d-9c56-dedab43a52b1"
      },
      "source": [
        "data[numerical].corr()"
      ],
      "execution_count": null,
      "outputs": [
        {
          "output_type": "execute_result",
          "data": {
            "text/html": [
              "<div>\n",
              "<style scoped>\n",
              "    .dataframe tbody tr th:only-of-type {\n",
              "        vertical-align: middle;\n",
              "    }\n",
              "\n",
              "    .dataframe tbody tr th {\n",
              "        vertical-align: top;\n",
              "    }\n",
              "\n",
              "    .dataframe thead th {\n",
              "        text-align: right;\n",
              "    }\n",
              "</style>\n",
              "<table border=\"1\" class=\"dataframe\">\n",
              "  <thead>\n",
              "    <tr style=\"text-align: right;\">\n",
              "      <th></th>\n",
              "      <th>temp</th>\n",
              "      <th>atemp</th>\n",
              "      <th>humidity</th>\n",
              "      <th>windspeed</th>\n",
              "      <th>casual</th>\n",
              "      <th>registered</th>\n",
              "      <th>num</th>\n",
              "    </tr>\n",
              "  </thead>\n",
              "  <tbody>\n",
              "    <tr>\n",
              "      <th>temp</th>\n",
              "      <td>1.000000</td>\n",
              "      <td>0.984948</td>\n",
              "      <td>-0.064949</td>\n",
              "      <td>-0.017852</td>\n",
              "      <td>0.467097</td>\n",
              "      <td>0.318571</td>\n",
              "      <td>0.394454</td>\n",
              "    </tr>\n",
              "    <tr>\n",
              "      <th>atemp</th>\n",
              "      <td>0.984948</td>\n",
              "      <td>1.000000</td>\n",
              "      <td>-0.043536</td>\n",
              "      <td>-0.057473</td>\n",
              "      <td>0.462067</td>\n",
              "      <td>0.314635</td>\n",
              "      <td>0.389784</td>\n",
              "    </tr>\n",
              "    <tr>\n",
              "      <th>humidity</th>\n",
              "      <td>-0.064949</td>\n",
              "      <td>-0.043536</td>\n",
              "      <td>1.000000</td>\n",
              "      <td>-0.318607</td>\n",
              "      <td>-0.348187</td>\n",
              "      <td>-0.265458</td>\n",
              "      <td>-0.317371</td>\n",
              "    </tr>\n",
              "    <tr>\n",
              "      <th>windspeed</th>\n",
              "      <td>-0.017852</td>\n",
              "      <td>-0.057473</td>\n",
              "      <td>-0.318607</td>\n",
              "      <td>1.000000</td>\n",
              "      <td>0.092276</td>\n",
              "      <td>0.091052</td>\n",
              "      <td>0.101369</td>\n",
              "    </tr>\n",
              "    <tr>\n",
              "      <th>casual</th>\n",
              "      <td>0.467097</td>\n",
              "      <td>0.462067</td>\n",
              "      <td>-0.348187</td>\n",
              "      <td>0.092276</td>\n",
              "      <td>1.000000</td>\n",
              "      <td>0.497250</td>\n",
              "      <td>0.690414</td>\n",
              "    </tr>\n",
              "    <tr>\n",
              "      <th>registered</th>\n",
              "      <td>0.318571</td>\n",
              "      <td>0.314635</td>\n",
              "      <td>-0.265458</td>\n",
              "      <td>0.091052</td>\n",
              "      <td>0.497250</td>\n",
              "      <td>1.000000</td>\n",
              "      <td>0.970948</td>\n",
              "    </tr>\n",
              "    <tr>\n",
              "      <th>num</th>\n",
              "      <td>0.394454</td>\n",
              "      <td>0.389784</td>\n",
              "      <td>-0.317371</td>\n",
              "      <td>0.101369</td>\n",
              "      <td>0.690414</td>\n",
              "      <td>0.970948</td>\n",
              "      <td>1.000000</td>\n",
              "    </tr>\n",
              "  </tbody>\n",
              "</table>\n",
              "</div>"
            ],
            "text/plain": [
              "                temp     atemp  humidity  ...    casual  registered       num\n",
              "temp        1.000000  0.984948 -0.064949  ...  0.467097    0.318571  0.394454\n",
              "atemp       0.984948  1.000000 -0.043536  ...  0.462067    0.314635  0.389784\n",
              "humidity   -0.064949 -0.043536  1.000000  ... -0.348187   -0.265458 -0.317371\n",
              "windspeed  -0.017852 -0.057473 -0.318607  ...  0.092276    0.091052  0.101369\n",
              "casual      0.467097  0.462067 -0.348187  ...  1.000000    0.497250  0.690414\n",
              "registered  0.318571  0.314635 -0.265458  ...  0.497250    1.000000  0.970948\n",
              "num         0.394454  0.389784 -0.317371  ...  0.690414    0.970948  1.000000\n",
              "\n",
              "[7 rows x 7 columns]"
            ]
          },
          "metadata": {
            "tags": []
          },
          "execution_count": 19
        }
      ]
    },
    {
      "cell_type": "code",
      "metadata": {
        "colab": {
          "base_uri": "https://localhost:8080/",
          "height": 432
        },
        "id": "eoCgqLyiwUBa",
        "outputId": "f0b9e70c-be6a-4b48-b793-bd70fc47ac5c"
      },
      "source": [
        "plt.subplots(figsize=(9,7)) \r\n",
        "sns.heatmap(data[numerical].corr(),cmap='Blues', annot=True)\r\n",
        "plt.show()"
      ],
      "execution_count": null,
      "outputs": [
        {
          "output_type": "display_data",
          "data": {
            "image/png": "[encoded data removed]",
            "text/plain": [
              "<Figure size 648x504 with 2 Axes>"
            ]
          },
          "metadata": {
            "tags": [],
            "needs_background": "light"
          }
        }
      ]
    },
    {
      "cell_type": "markdown",
      "metadata": {
        "id": "aQs835nOTfe7"
      },
      "source": [
        "Correlation이 커 다중공선성 문제를 일으킬 수 있는 변수로는 `atemp`와 `temp`, 그리고 `registered`와 `count`가 있습니다."
      ]
    },
    {
      "cell_type": "markdown",
      "metadata": {
        "id": "SLNgK6taCsg8"
      },
      "source": [
        "## 2-4  수치형 변수에 대해 로그 변환\r\n",
        "  \r\n",
        "변수  `windspeed`, `casual`, `registered`,`num`의 그래프를 보면, 왼쪽으로 치우쳐져 있는 것을 알 수 있다. 이 중 `num`과 `registered`는 타깃 변수로 사용될 확률이 높기 때문에 로그변환을 하지 않고, 2개의 변수에 대한 로그 변환을 진행해주었습니다."
      ]
    },
    {
      "cell_type": "code",
      "metadata": {
        "id": "BrW_mSNOCsYi"
      },
      "source": [
        "data['log_windspeed'] = np.log(data['windspeed'])\r\n",
        "data['log_casual'] = np.log(data['casual']) "
      ],
      "execution_count": null,
      "outputs": []
    },
    {
      "cell_type": "code",
      "metadata": {
        "colab": {
          "base_uri": "https://localhost:8080/"
        },
        "id": "5-2agLKKFSj4",
        "outputId": "02ac4f92-e150-4463-e6dd-b3835cdb2f42"
      },
      "source": [
        "print(data.shape)\r\n",
        "data1 = data[data['log_windspeed']> 0]\r\n",
        "print(data1.shape)\r\n",
        "data1 = data1[data1['log_casual']> 0] \r\n",
        "print(data1.shape)"
      ],
      "execution_count": null,
      "outputs": [
        {
          "output_type": "stream",
          "text": [
            "(10886, 14)\n",
            "(9573, 14)\n",
            "(8186, 14)\n"
          ],
          "name": "stdout"
        }
      ]
    },
    {
      "cell_type": "markdown",
      "metadata": {
        "id": "jHRf0aSVHsY8"
      },
      "source": [
        "변수 별로 로그 변환 과정에서 발생한 결측치들을 제거해주었으며, Log casual을 변환할 경우 1400개 가량의 데이터 손실이 일어남으로 log_casual을 제외한 나머지 한 개의 변수에 대해 로그 변환을 실행해주었다."
      ]
    },
    {
      "cell_type": "code",
      "metadata": {
        "colab": {
          "base_uri": "https://localhost:8080/"
        },
        "id": "6Uy6hoAxIHgp",
        "outputId": "a9147074-3184-45ce-b268-44df41ff66a1"
      },
      "source": [
        "print(data.shape)\r\n",
        "data = data[data['log_windspeed']> 0]\r\n",
        "print(data.shape)\r\n",
        "data = data.reset_index()"
      ],
      "execution_count": null,
      "outputs": [
        {
          "output_type": "stream",
          "text": [
            "(10886, 14)\n",
            "(9573, 14)\n"
          ],
          "name": "stdout"
        }
      ]
    },
    {
      "cell_type": "markdown",
      "metadata": {
        "id": "DG_HMcMoITn1"
      },
      "source": [
        "변환을 진행해준 결과, 두 개의 변수에 대해서 로그 변환을 했을 때보다 데이터 유실량이 감소하였습니다."
      ]
    },
    {
      "cell_type": "code",
      "metadata": {
        "colab": {
          "base_uri": "https://localhost:8080/",
          "height": 335
        },
        "id": "plx1dPUm-VAc",
        "outputId": "d941f29d-74dd-4baf-f96e-40ae8eeb5e98"
      },
      "source": [
        "f, axes = plt.subplots(ncols=2, figsize=(10,5))\r\n",
        "sns.distplot(data['windspeed'], ax=axes[0], color=\"b\")\r\n",
        "sns.distplot(data['log_windspeed'], ax=axes[1], color=\"b\")\r\n",
        "plt.show()"
      ],
      "execution_count": null,
      "outputs": [
        {
          "output_type": "display_data",
          "data": {
            "image/png": "[encoded data removed]",
            "text/plain": [
              "<Figure size 720x360 with 2 Axes>"
            ]
          },
          "metadata": {
            "tags": [],
            "needs_background": "light"
          }
        }
      ]
    },
    {
      "cell_type": "markdown",
      "metadata": {
        "id": "kKPk-a1U53Yo"
      },
      "source": [
        "# 3. 날짜 관련 분석"
      ]
    },
    {
      "cell_type": "markdown",
      "metadata": {
        "id": "kgdRmsYPXkk9"
      },
      "source": [
        "## 3-1 날짜 변수 생성 및 파악"
      ]
    },
    {
      "cell_type": "markdown",
      "metadata": {
        "id": "4vpcLyrE6Brn"
      },
      "source": [
        "현재 datetime 변수가 datetime 형식이 아닌 일반적인 문자열 형식으로 되어 있는 것을 확인하였습니다."
      ]
    },
    {
      "cell_type": "code",
      "metadata": {
        "colab": {
          "base_uri": "https://localhost:8080/"
        },
        "id": "pn-xjXm6UGXh",
        "outputId": "4f00463f-f429-4712-d465-668cb1fa05fb"
      },
      "source": [
        "data['datetime']"
      ],
      "execution_count": null,
      "outputs": [
        {
          "output_type": "execute_result",
          "data": {
            "text/plain": [
              "0       2011-01-01 05:00:00\n",
              "1       2011-01-01 10:00:00\n",
              "2       2011-01-01 11:00:00\n",
              "3       2011-01-01 12:00:00\n",
              "4       2011-01-01 13:00:00\n",
              "               ...         \n",
              "9568    2012-12-19 19:00:00\n",
              "9569    2012-12-19 20:00:00\n",
              "9570    2012-12-19 21:00:00\n",
              "9571    2012-12-19 22:00:00\n",
              "9572    2012-12-19 23:00:00\n",
              "Name: datetime, Length: 9573, dtype: object"
            ]
          },
          "metadata": {
            "tags": []
          },
          "execution_count": 25
        }
      ]
    },
    {
      "cell_type": "markdown",
      "metadata": {
        "id": "sUGVEoJG6ISj"
      },
      "source": [
        "우선 datetime library를 import하고, datetime의 형태를 `'%Y-%m-%d  %H:%M:%S'` 형식으로 변환해줍니다."
      ]
    },
    {
      "cell_type": "code",
      "metadata": {
        "id": "Pmm0nozMVfWd"
      },
      "source": [
        "#datetime 형식으로 변경\r\n",
        "import datetime\r\n",
        "\r\n",
        "dt_list = []\r\n",
        "for i in range(len(data)):\r\n",
        "  datetime_str = data['datetime'][i]\r\n",
        "  dt_i = datetime.datetime.strptime(datetime_str, '%Y-%m-%d  %H:%M:%S')\r\n",
        "  dt_list.append(dt_i)\r\n",
        "\r\n",
        "data['datetime_dt'] = dt_list"
      ],
      "execution_count": null,
      "outputs": []
    },
    {
      "cell_type": "code",
      "metadata": {
        "colab": {
          "base_uri": "https://localhost:8080/"
        },
        "id": "ADfdfSlVWQgo",
        "outputId": "6d5552f2-d1dd-41a9-a17a-19cc9a229291"
      },
      "source": [
        "data['datetime_dt']"
      ],
      "execution_count": null,
      "outputs": [
        {
          "output_type": "execute_result",
          "data": {
            "text/plain": [
              "0      2011-01-01 05:00:00\n",
              "1      2011-01-01 10:00:00\n",
              "2      2011-01-01 11:00:00\n",
              "3      2011-01-01 12:00:00\n",
              "4      2011-01-01 13:00:00\n",
              "               ...        \n",
              "9568   2012-12-19 19:00:00\n",
              "9569   2012-12-19 20:00:00\n",
              "9570   2012-12-19 21:00:00\n",
              "9571   2012-12-19 22:00:00\n",
              "9572   2012-12-19 23:00:00\n",
              "Name: datetime_dt, Length: 9573, dtype: datetime64[ns]"
            ]
          },
          "metadata": {
            "tags": []
          },
          "execution_count": 27
        }
      ]
    },
    {
      "cell_type": "markdown",
      "metadata": {
        "id": "nPpCGKjD6cK8"
      },
      "source": [
        "dtype이 **object**에서 **datetme**으로 변경된 것을 확인할 수 있습니다."
      ]
    },
    {
      "cell_type": "markdown",
      "metadata": {
        "id": "r42KOB1f6hPo"
      },
      "source": [
        "datetime 변수를 year/month/date/hour/day로 구분하여 각 변수를 생성합니다.\r\n",
        "\r\n",
        "- year: 연도 (2011/2012)\r\n",
        "- month: 월\r\n",
        "- date: 일\r\n",
        "- hour: 시간\r\n",
        "- day: 요일 (월/화/수/목/금/토/일)\r\n",
        "- day_night: 낮/밤 (06시 - 17시: day, 18시 - 05시: night으로 구분)"
      ]
    },
    {
      "cell_type": "code",
      "metadata": {
        "id": "a3fE2i5-WMI8"
      },
      "source": [
        "data['year'] = data['datetime_dt'].dt.year #연도\r\n",
        "data['month'] = data['datetime_dt'].dt.month #월\r\n",
        "data['hour'] = data['datetime_dt'].dt.hour #시간\r\n",
        "data['day'] = data['datetime_dt'].dt.weekday #요일\r\n",
        "\r\n",
        "def func(x) :\r\n",
        "    if 6 < x < 17 :\r\n",
        "        return 'day'\r\n",
        "    else :\r\n",
        "        return 'night'\r\n",
        "\r\n",
        "data[\"day_night\"] = data[\"hour\"].apply(lambda x : func(x)) #낮/밤\r\n",
        "\r\n",
        "data['date'] = data['datetime_dt'].dt.date #일\r\n",
        "d_list = []\r\n",
        "\r\n",
        "for i in range(len(data)):\r\n",
        "  date = data['date'].astype(str)\r\n",
        "  date = date[i]\r\n",
        "  m,d,date = date.split('-')\r\n",
        "  d_list.append(date)\r\n",
        "\r\n",
        "data['date'] = d_list"
      ],
      "execution_count": null,
      "outputs": []
    },
    {
      "cell_type": "markdown",
      "metadata": {
        "id": "M5yWkTZj9kII"
      },
      "source": [
        "## 3-2 분석"
      ]
    },
    {
      "cell_type": "markdown",
      "metadata": {
        "id": "xHxxffEQ9nlU"
      },
      "source": [
        "### 요일별 평균 대여량"
      ]
    },
    {
      "cell_type": "markdown",
      "metadata": {
        "id": "W5K6dX8j7GQf"
      },
      "source": [
        "0부터 6으로 표시되어 있는 `day`변수의 값들에 각각 요일을 할당합니다."
      ]
    },
    {
      "cell_type": "code",
      "metadata": {
        "colab": {
          "base_uri": "https://localhost:8080/",
          "height": 369
        },
        "id": "UcVioB4VW7yc",
        "outputId": "9500c665-6dfd-43f5-8b04-02fcae35bfea"
      },
      "source": [
        "label = ['Mon','Tue','Wed','Thu', 'Fri', 'Sat', 'Sun']\r\n",
        "index = np.arange(len(label))\r\n",
        "\r\n",
        "plt.subplots(figsize=(7,5)) \r\n",
        "data_day_mean = data.groupby(['day'], as_index=False).mean()\r\n",
        "data_day_mean_num = data_day_mean[[\"day\", \"num\"]] #feature 1\r\n",
        "data_day_mean_num = data_day_mean_num.sort_values(by=\"num\", ascending=False)\r\n",
        "plt.bar(data_day_mean_num['day'],data_day_mean_num['num'], color = 'skyblue')\r\n",
        "plt.title('weekdays-mean')\r\n",
        "plt.xlabel('day', fontsize=12)\r\n",
        "plt.ylabel('num', fontsize=12)\r\n",
        "plt.xticks(index, label, fontsize=12, rotation=90)\r\n",
        "plt.show()\r\n"
      ],
      "execution_count": null,
      "outputs": [
        {
          "output_type": "display_data",
          "data": {
            "image/png": "[encoded data removed]",
            "text/plain": [
              "<Figure size 504x360 with 1 Axes>"
            ]
          },
          "metadata": {
            "tags": [],
            "needs_background": "light"
          }
        }
      ]
    },
    {
      "cell_type": "markdown",
      "metadata": {
        "id": "4WUcWwdF7nZD"
      },
      "source": [
        "변수가 올바르게 생성되었으며, 요일에 따른 대여량의 차이는 없는 것을 확인할 수 있습니다."
      ]
    },
    {
      "cell_type": "markdown",
      "metadata": {
        "id": "M8HP--8U9sf2"
      },
      "source": [
        "### **요일별 낮/밤 평균 대여량 비교**"
      ]
    },
    {
      "cell_type": "markdown",
      "metadata": {
        "id": "-0zyJoUW7x3S"
      },
      "source": [
        "day_night 변수를 활용해 요일 별 낮과 밤에 따른 대여량의 차이를 비교합니다."
      ]
    },
    {
      "cell_type": "code",
      "metadata": {
        "colab": {
          "base_uri": "https://localhost:8080/",
          "height": 366
        },
        "id": "QqgqKNPXZCTA",
        "outputId": "74237485-e589-4695-a08d-53e1c8190e3d"
      },
      "source": [
        "# Dodged Bar Chart\r\n",
        "\r\n",
        "plt.subplots(figsize=(7,5)) \r\n",
        "sns.barplot(x='day', y='num', hue='day_night', data=data, palette = 'Set2', ci=False)\r\n",
        "plt.title('weekdays-daynight', fontsize=12)\r\n",
        "plt.legend(fontsize=12)\r\n",
        "plt.xticks(index, label, fontsize=12, rotation=90)\r\n",
        "plt.show()"
      ],
      "execution_count": null,
      "outputs": [
        {
          "output_type": "display_data",
          "data": {
            "image/png": "[encoded data removed]",
            "text/plain": [
              "<Figure size 504x360 with 1 Axes>"
            ]
          },
          "metadata": {
            "tags": [],
            "needs_background": "light"
          }
        }
      ]
    },
    {
      "cell_type": "markdown",
      "metadata": {
        "id": "Xx4QS11R72RR"
      },
      "source": [
        "주말(sat, sun)에 낮에 대여량이 증가하고 밤에는 대여량이 감소한다는 것을 알 수 있으며, 주중 대여량은 큰 차이 없이 모두 비슷한 대여량 수치를 보인다는 것을 알 수 있습니다."
      ]
    },
    {
      "cell_type": "markdown",
      "metadata": {
        "id": "dj7VICmT9xjr"
      },
      "source": [
        "### **시간대별 대여량**"
      ]
    },
    {
      "cell_type": "code",
      "metadata": {
        "colab": {
          "base_uri": "https://localhost:8080/",
          "height": 461
        },
        "id": "XiRZnIxxa-kW",
        "outputId": "0261456f-7c6e-4e1c-fa5a-1857863e024c"
      },
      "source": [
        "plt.subplots(figsize=(9,7)) \r\n",
        "data_hour_mean = data.groupby(['hour'], as_index=False).mean()\r\n",
        "data_hour_mean_num = data_hour_mean[[\"hour\", \"num\"]] #feature 1\r\n",
        "data_hour_mean_num = data_hour_mean_num.sort_values(by=\"num\", ascending=False)\r\n",
        "plt.bar(data_hour_mean_num['hour'],data_hour_mean_num['num'], color = 'skyblue')\r\n",
        "plt.title('hours-mean')\r\n",
        "plt.xlabel('hour', fontsize=12)\r\n",
        "plt.ylabel('num', fontsize=12)\r\n",
        "plt.show()\r\n"
      ],
      "execution_count": null,
      "outputs": [
        {
          "output_type": "display_data",
          "data": {
            "image/png": "[encoded data removed]",
            "text/plain": [
              "<Figure size 648x504 with 1 Axes>"
            ]
          },
          "metadata": {
            "tags": [],
            "needs_background": "light"
          }
        }
      ]
    },
    {
      "cell_type": "markdown",
      "metadata": {
        "id": "koo2t15X8hco"
      },
      "source": [
        "시간대별 대여량을 살펴보면, 하루 중 가장 대여량이 많은 시간대는 퇴근 시간에 해당하는 **17시와 18시**, 그리고 출근 시간인 **오전 08시**임을 알 수 있었습니다. 21시 이후부터 사용량이 대폭 감소하며 새벽에는 사용량이 거의 없다가 오전 07시부터 본격적으로 대여가 시작됨을 알 수 있습니다."
      ]
    },
    {
      "cell_type": "markdown",
      "metadata": {
        "id": "nXxsD0qx-DIf"
      },
      "source": [
        "### **월별 대여량**"
      ]
    },
    {
      "cell_type": "code",
      "metadata": {
        "colab": {
          "base_uri": "https://localhost:8080/",
          "height": 461
        },
        "id": "TtFeMzatgosK",
        "outputId": "1cbb10a7-8c78-42a7-b595-195bb6264655"
      },
      "source": [
        "plt.subplots(figsize=(9,7))\r\n",
        "data_month_mean = data.groupby(['month'], as_index=False).mean()\r\n",
        "data_month_mean_num = data_month_mean[[\"month\", \"num\"]] #feature 1\r\n",
        "data_month_mean_num = data_month_mean_num.sort_values(by=\"num\", ascending=False)\r\n",
        "plt.bar(data_month_mean_num['month'],data_month_mean_num['num'], color = 'skyblue')\r\n",
        "plt.title('months-mean')\r\n",
        "plt.xlabel('month', fontsize=12)\r\n",
        "plt.ylabel('num', fontsize=12)\r\n",
        "plt.show()"
      ],
      "execution_count": null,
      "outputs": [
        {
          "output_type": "display_data",
          "data": {
            "image/png": "[encoded data removed]",
            "text/plain": [
              "<Figure size 648x504 with 1 Axes>"
            ]
          },
          "metadata": {
            "tags": [],
            "needs_background": "light"
          }
        }
      ]
    },
    {
      "cell_type": "markdown",
      "metadata": {
        "id": "FSlKYSNE9EP4"
      },
      "source": [
        "월별 평균 대여량을 비교해보면, 겨울에 해당하는 1월과 2월에 대여량이 가장 적으며, 이후 날씨가 풀리는 3월과 4월에 조금씩 증가하다가 6월부터 10월 간 가장 대여량이 많은 것을 볼 수 있습니다."
      ]
    },
    {
      "cell_type": "markdown",
      "metadata": {
        "id": "Po7kjwfhLu8e"
      },
      "source": [
        "### **일별 대여량**"
      ]
    },
    {
      "cell_type": "code",
      "metadata": {
        "colab": {
          "base_uri": "https://localhost:8080/",
          "height": 461
        },
        "id": "MzLdJnaQLrXE",
        "outputId": "6f9ffae4-69f2-4401-b8a8-49fbb71e96b4"
      },
      "source": [
        "plt.subplots(figsize=(9,7))\r\n",
        "data_date_mean = data.groupby(['date'], as_index=False).mean()\r\n",
        "data_date_mean_num = data_date_mean[[\"date\", \"num\"]] #feature 1\r\n",
        "data_date_mean_num = data_date_mean_num.sort_values(by=\"num\", ascending=False)\r\n",
        "plt.bar(data_date_mean_num['date'],data_date_mean_num['num'], color = 'skyblue')\r\n",
        "plt.title('dates-mean')\r\n",
        "plt.xlabel('date', fontsize=12)\r\n",
        "plt.ylabel('num', fontsize=12)\r\n",
        "plt.show()"
      ],
      "execution_count": null,
      "outputs": [
        {
          "output_type": "display_data",
          "data": {
            "image/png": "[encoded data removed]",
            "text/plain": [
              "<Figure size 648x504 with 1 Axes>"
            ]
          },
          "metadata": {
            "tags": [],
            "needs_background": "light"
          }
        }
      ]
    },
    {
      "cell_type": "markdown",
      "metadata": {
        "id": "U2Pts_9cLxyG"
      },
      "source": [
        "일별 대여량에는 큰 차이가 없습니다. 다만 달의 시작인 01일에 평균적으로 가장 적은 대여량을 기록한 것을 알 수 있습니다."
      ]
    },
    {
      "cell_type": "markdown",
      "metadata": {
        "id": "Aby1q-Rbt92s"
      },
      "source": [
        "# 4. 날씨 관련 분석"
      ]
    },
    {
      "cell_type": "markdown",
      "metadata": {
        "id": "EZof-Vhe_7Yl"
      },
      "source": [
        "## 4-1 날씨(weather)에 따른 대여량"
      ]
    },
    {
      "cell_type": "code",
      "metadata": {
        "colab": {
          "base_uri": "https://localhost:8080/"
        },
        "id": "MK-Wu4q3t929",
        "outputId": "46cb4d37-0992-434b-b0b4-b3dba3943595"
      },
      "source": [
        "data['weather'] == data['weather'].astype(str)\r\n",
        "print(data['weather'].unique())"
      ],
      "execution_count": null,
      "outputs": [
        {
          "output_type": "stream",
          "text": [
            "[2 1 3 4]\n"
          ],
          "name": "stdout"
        }
      ]
    },
    {
      "cell_type": "markdown",
      "metadata": {
        "id": "WmTOYAoKt92_"
      },
      "source": [
        "  - 1: Clear, Few clouds, Partly cloudy, Partly cloudy\r\n",
        "  - 2: Mist + Cloudy, Mist + Broken clouds, Mist + Few clouds, Mist\r\n",
        "  - 3: Light Snow, Light Rain + Thunderstorm + Scattered clouds, Light Rain + Scattered clouds\r\n",
        "  - 4: Heavy Rain + Ice Pallets + Thunderstorm + Mist, Snow + Fog "
      ]
    },
    {
      "cell_type": "code",
      "metadata": {
        "colab": {
          "base_uri": "https://localhost:8080/",
          "height": 134
        },
        "id": "QOvsNqqwt92_",
        "outputId": "db1888b9-6e7a-437d-a4ad-957602ae2095"
      },
      "source": [
        "data[data['weather'] == 4]"
      ],
      "execution_count": null,
      "outputs": [
        {
          "output_type": "execute_result",
          "data": {
            "text/html": [
              "<div>\n",
              "<style scoped>\n",
              "    .dataframe tbody tr th:only-of-type {\n",
              "        vertical-align: middle;\n",
              "    }\n",
              "\n",
              "    .dataframe tbody tr th {\n",
              "        vertical-align: top;\n",
              "    }\n",
              "\n",
              "    .dataframe thead th {\n",
              "        text-align: right;\n",
              "    }\n",
              "</style>\n",
              "<table border=\"1\" class=\"dataframe\">\n",
              "  <thead>\n",
              "    <tr style=\"text-align: right;\">\n",
              "      <th></th>\n",
              "      <th>index</th>\n",
              "      <th>datetime</th>\n",
              "      <th>season</th>\n",
              "      <th>h_day</th>\n",
              "      <th>w_day</th>\n",
              "      <th>weather</th>\n",
              "      <th>temp</th>\n",
              "      <th>atemp</th>\n",
              "      <th>humidity</th>\n",
              "      <th>windspeed</th>\n",
              "      <th>casual</th>\n",
              "      <th>registered</th>\n",
              "      <th>num</th>\n",
              "      <th>log_windspeed</th>\n",
              "      <th>log_casual</th>\n",
              "      <th>datetime_dt</th>\n",
              "      <th>year</th>\n",
              "      <th>month</th>\n",
              "      <th>hour</th>\n",
              "      <th>day</th>\n",
              "      <th>day_night</th>\n",
              "      <th>date</th>\n",
              "    </tr>\n",
              "  </thead>\n",
              "  <tbody>\n",
              "    <tr>\n",
              "      <th>4921</th>\n",
              "      <td>5631</td>\n",
              "      <td>2012-01-09 18:00:00</td>\n",
              "      <td>1</td>\n",
              "      <td>0</td>\n",
              "      <td>1</td>\n",
              "      <td>4</td>\n",
              "      <td>8.2</td>\n",
              "      <td>11.365</td>\n",
              "      <td>86</td>\n",
              "      <td>6.0032</td>\n",
              "      <td>6</td>\n",
              "      <td>158</td>\n",
              "      <td>164</td>\n",
              "      <td>1.792293</td>\n",
              "      <td>1.791759</td>\n",
              "      <td>2012-01-09 18:00:00</td>\n",
              "      <td>2012</td>\n",
              "      <td>1</td>\n",
              "      <td>18</td>\n",
              "      <td>0</td>\n",
              "      <td>night</td>\n",
              "      <td>09</td>\n",
              "    </tr>\n",
              "  </tbody>\n",
              "</table>\n",
              "</div>"
            ],
            "text/plain": [
              "      index             datetime  season  h_day  ...  hour  day  day_night  date\n",
              "4921   5631  2012-01-09 18:00:00       1      0  ...    18    0      night    09\n",
              "\n",
              "[1 rows x 22 columns]"
            ]
          },
          "metadata": {
            "tags": []
          },
          "execution_count": 35
        }
      ]
    },
    {
      "cell_type": "markdown",
      "metadata": {
        "id": "C7DycsyOt93A"
      },
      "source": [
        "전체 데이터 중 Level 4에 해당되는 날씨는 하루 밖에 없었습니다.  \r\n",
        "아래의 Plot을 통해 일반적으로 비가 내리지 않고 눈이 오지 않는 날씨일 때보다 그렇지 않을 때에 대여량이 감소하는 추세는 볼 수 있지만, 아래 그래프에서 Level4에 해당되는 값은 평균이 아닌 하루의 수치일 것이기 때문에 (data의 개수가 하나이기 때문) bias가 있는 plot이 생성될 것이라고 생각합니다. 그러므로 group별 평균을 낸 아래의 mean plot은 Level3과 4를 비교하는 데에는 무리가 있습니다."
      ]
    },
    {
      "cell_type": "code",
      "metadata": {
        "colab": {
          "base_uri": "https://localhost:8080/",
          "height": 353
        },
        "id": "G5C5NxdGt93A",
        "outputId": "6d996790-71aa-4ff0-d437-f7f497210e8b"
      },
      "source": [
        "data['weather'] = data['weather'].astype(str)\r\n",
        "\r\n",
        "plt.subplots(figsize=(7,5))\r\n",
        "data_weather_mean = data.groupby(['weather'], as_index=False).mean()\r\n",
        "data_weather_mean_num = data_weather_mean[[\"weather\", \"num\"]] #feature 1\r\n",
        "data_weather_mean_num = data_weather_mean_num.sort_values(by=\"num\", ascending=False)\r\n",
        "plt.bar(data_weather_mean_num['weather'],data_weather_mean_num['num'], color = 'darkgreen')\r\n",
        "plt.title('weather-mean')\r\n",
        "plt.xlabel('weather', fontsize=12)\r\n",
        "plt.ylabel('num', fontsize=12)\r\n",
        "plt.show()"
      ],
      "execution_count": null,
      "outputs": [
        {
          "output_type": "display_data",
          "data": {
            "image/png": "[encoded data removed]",
            "text/plain": [
              "<Figure size 504x360 with 1 Axes>"
            ]
          },
          "metadata": {
            "tags": [],
            "needs_background": "light"
          }
        }
      ]
    },
    {
      "cell_type": "markdown",
      "metadata": {
        "id": "zx1Xq-zI9-Hp"
      },
      "source": [
        "## 4-2 계절(season)별 대여량"
      ]
    },
    {
      "cell_type": "code",
      "metadata": {
        "colab": {
          "base_uri": "https://localhost:8080/"
        },
        "id": "Xwy4z2vz-g6V",
        "outputId": "8ba2b21f-8d3a-403a-c4c1-43b51fd84e16"
      },
      "source": [
        "Counter(data['season'])"
      ],
      "execution_count": null,
      "outputs": [
        {
          "output_type": "execute_result",
          "data": {
            "text/plain": [
              "Counter({1: 2423, 2: 2465, 3: 2383, 4: 2302})"
            ]
          },
          "metadata": {
            "tags": []
          },
          "execution_count": 37
        }
      ]
    },
    {
      "cell_type": "code",
      "metadata": {
        "colab": {
          "base_uri": "https://localhost:8080/",
          "height": 502
        },
        "id": "yPA4OD3G9Cuh",
        "outputId": "820f2480-6e51-45a8-c887-e8aca3eaadb1"
      },
      "source": [
        "label = ['','Spring','Summer','Fall','Winter']\r\n",
        "index = np.arange(len(label))\r\n",
        "\r\n",
        "plt.subplots(figsize=(9,7))\r\n",
        "data_season_mean = data.groupby(['season'], as_index=False).mean()\r\n",
        "data_season_mean_num = data_season_mean[[\"season\", \"num\"]] #feature 1\r\n",
        "data_season_mean_num = data_season_mean_num.sort_values(by=\"num\", ascending=False)\r\n",
        "plt.bar(data_season_mean_num['season'],data_season_mean_num['num'], color = 'darkgreen')\r\n",
        "plt.title('weekseasons-mean')\r\n",
        "plt.xlabel('season', fontsize=12)\r\n",
        "plt.ylabel('num', fontsize=12)\r\n",
        "plt.xticks(index, label, fontsize=12, rotation=90)\r\n",
        "plt.show()\r\n"
      ],
      "execution_count": null,
      "outputs": [
        {
          "output_type": "display_data",
          "data": {
            "image/png": "[encoded data removed]",
            "text/plain": [
              "<Figure size 648x504 with 1 Axes>"
            ]
          },
          "metadata": {
            "tags": [],
            "needs_background": "light"
          }
        }
      ]
    },
    {
      "cell_type": "markdown",
      "metadata": {
        "id": "qL-TCkItMDKh"
      },
      "source": [
        "겨울과 봄에는 대여량이 비교적 적으며, 여름과 가을에 대여량이 많은 것을 알 수 있습니다."
      ]
    },
    {
      "cell_type": "markdown",
      "metadata": {
        "id": "rNsSmeerN72t"
      },
      "source": [
        "## 4-3 습도(humidity)별 대여량"
      ]
    },
    {
      "cell_type": "markdown",
      "metadata": {
        "id": "PcOOCpOMOHvu"
      },
      "source": [
        "습도를 구간을 나누어 class로 분류해준 뒤, 범주형 변수를 생성하여 분석을 진행하였습니다."
      ]
    },
    {
      "cell_type": "code",
      "metadata": {
        "colab": {
          "base_uri": "https://localhost:8080/",
          "height": 297
        },
        "id": "OEPiXYzmOYW5",
        "outputId": "3a5c37e3-2285-4b6a-d2e3-006bb7dc4bc2"
      },
      "source": [
        "humid = ['humidity'] #datetime 제외\r\n",
        "data[humid].describe()"
      ],
      "execution_count": null,
      "outputs": [
        {
          "output_type": "execute_result",
          "data": {
            "text/html": [
              "<div>\n",
              "<style scoped>\n",
              "    .dataframe tbody tr th:only-of-type {\n",
              "        vertical-align: middle;\n",
              "    }\n",
              "\n",
              "    .dataframe tbody tr th {\n",
              "        vertical-align: top;\n",
              "    }\n",
              "\n",
              "    .dataframe thead th {\n",
              "        text-align: right;\n",
              "    }\n",
              "</style>\n",
              "<table border=\"1\" class=\"dataframe\">\n",
              "  <thead>\n",
              "    <tr style=\"text-align: right;\">\n",
              "      <th></th>\n",
              "      <th>humidity</th>\n",
              "    </tr>\n",
              "  </thead>\n",
              "  <tbody>\n",
              "    <tr>\n",
              "      <th>count</th>\n",
              "      <td>9573.000000</td>\n",
              "    </tr>\n",
              "    <tr>\n",
              "      <th>mean</th>\n",
              "      <td>61.029458</td>\n",
              "    </tr>\n",
              "    <tr>\n",
              "      <th>std</th>\n",
              "      <td>19.103359</td>\n",
              "    </tr>\n",
              "    <tr>\n",
              "      <th>min</th>\n",
              "      <td>0.000000</td>\n",
              "    </tr>\n",
              "    <tr>\n",
              "      <th>25%</th>\n",
              "      <td>46.000000</td>\n",
              "    </tr>\n",
              "    <tr>\n",
              "      <th>50%</th>\n",
              "      <td>61.000000</td>\n",
              "    </tr>\n",
              "    <tr>\n",
              "      <th>75%</th>\n",
              "      <td>77.000000</td>\n",
              "    </tr>\n",
              "    <tr>\n",
              "      <th>max</th>\n",
              "      <td>100.000000</td>\n",
              "    </tr>\n",
              "  </tbody>\n",
              "</table>\n",
              "</div>"
            ],
            "text/plain": [
              "          humidity\n",
              "count  9573.000000\n",
              "mean     61.029458\n",
              "std      19.103359\n",
              "min       0.000000\n",
              "25%      46.000000\n",
              "50%      61.000000\n",
              "75%      77.000000\n",
              "max     100.000000"
            ]
          },
          "metadata": {
            "tags": []
          },
          "execution_count": 39
        }
      ]
    },
    {
      "cell_type": "code",
      "metadata": {
        "colab": {
          "base_uri": "https://localhost:8080/",
          "height": 374
        },
        "id": "qicVoSYlOife",
        "outputId": "28b05c21-8685-4d87-ed62-4703bb9d94b1"
      },
      "source": [
        "data[humid].hist(bins =35, figsize=(7,5), color = 'darkgreen')\r\n",
        "plt.suptitle(\"Histogram (humidity)\", fontsize=12)"
      ],
      "execution_count": null,
      "outputs": [
        {
          "output_type": "execute_result",
          "data": {
            "text/plain": [
              "Text(0.5, 0.98, 'Histogram (humidity)')"
            ]
          },
          "metadata": {
            "tags": []
          },
          "execution_count": 40
        },
        {
          "output_type": "display_data",
          "data": {
            "image/png": "[encoded data removed]",
            "text/plain": [
              "<Figure size 504x360 with 1 Axes>"
            ]
          },
          "metadata": {
            "tags": [],
            "needs_background": "light"
          }
        }
      ]
    },
    {
      "cell_type": "markdown",
      "metadata": {
        "id": "--hP5jWyO3YZ"
      },
      "source": [
        "25%, 50%, 75% 값을 기준으로 class를 분류하였습니다."
      ]
    },
    {
      "cell_type": "code",
      "metadata": {
        "id": "1lCYvOLFOHBD"
      },
      "source": [
        "def func(x) :\r\n",
        "    if 61 < x <= 77 :\r\n",
        "      return 'mid-high'\r\n",
        "    elif 46 < x <= 61 :\r\n",
        "      return 'mid-low'\r\n",
        "    elif x <= 46:\r\n",
        "      return 'low'\r\n",
        "    else:\r\n",
        "      return 'high'\r\n",
        "\r\n",
        "data[\"humid_class\"] = data[\"humidity\"].apply(lambda x : func(x)) "
      ],
      "execution_count": null,
      "outputs": []
    },
    {
      "cell_type": "code",
      "metadata": {
        "colab": {
          "base_uri": "https://localhost:8080/",
          "height": 298
        },
        "id": "ZiUQD0YPPiSl",
        "outputId": "1c02cb38-f140-4f1f-a23f-f2d57a782f8b"
      },
      "source": [
        "sns.countplot(x=\"humid_class\", data=data, saturation=0.5, palette= 'Set1')\r\n",
        "Counter(data[\"humid_class\"])"
      ],
      "execution_count": null,
      "outputs": [
        {
          "output_type": "execute_result",
          "data": {
            "text/plain": [
              "Counter({'high': 2197, 'low': 2478, 'mid-high': 2441, 'mid-low': 2457})"
            ]
          },
          "metadata": {
            "tags": []
          },
          "execution_count": 42
        },
        {
          "output_type": "display_data",
          "data": {
            "image/png": "[encoded data removed]",
            "text/plain": [
              "<Figure size 432x288 with 1 Axes>"
            ]
          },
          "metadata": {
            "tags": [],
            "needs_background": "light"
          }
        }
      ]
    },
    {
      "cell_type": "code",
      "metadata": {
        "colab": {
          "base_uri": "https://localhost:8080/",
          "height": 353
        },
        "id": "GwV9pT-rQBZq",
        "outputId": "32843354-940c-4d40-ec2b-1bd06fee9c76"
      },
      "source": [
        "plt.subplots(figsize=(7,5)) \r\n",
        "data_humid_class_mean = data.groupby(['humid_class'], as_index=False).mean()\r\n",
        "data_humid_class_mean_num = data_humid_class_mean[[\"humid_class\", \"num\"]]\r\n",
        "data_humid_class_mean_num = data_humid_class_mean_num.sort_values(by=\"num\", ascending=False)\r\n",
        "plt.bar(data_humid_class_mean_num['humid_class'],data_humid_class_mean_num['num'], color = 'darkgreen')\r\n",
        "plt.title('humid_classs-mean (num)')\r\n",
        "plt.xlabel('humid_class', fontsize=12)\r\n",
        "plt.ylabel('num', fontsize=12)\r\n",
        "plt.show()"
      ],
      "execution_count": null,
      "outputs": [
        {
          "output_type": "display_data",
          "data": {
            "image/png": "[encoded data removed]",
            "text/plain": [
              "<Figure size 504x360 with 1 Axes>"
            ]
          },
          "metadata": {
            "tags": [],
            "needs_background": "light"
          }
        }
      ]
    },
    {
      "cell_type": "markdown",
      "metadata": {
        "id": "y2KTmM0oQsdC"
      },
      "source": [
        "습도가 낮을수록 대여량이 증가함을 알 수 있습니다."
      ]
    },
    {
      "cell_type": "markdown",
      "metadata": {
        "id": "mbNl8R5zuQ7Q"
      },
      "source": [
        "# 5. 등록 대여와 미등록 대여"
      ]
    },
    {
      "cell_type": "markdown",
      "metadata": {
        "id": "c2FAvStCuiGJ"
      },
      "source": [
        "'registered'와 'casual'데이터를 이용하여 등록 여부와"
      ]
    },
    {
      "cell_type": "markdown",
      "metadata": {
        "id": "4u7U2yLv8zWf"
      },
      "source": [
        "## 5-1 등록/미등록 대여와 날씨의 관계"
      ]
    },
    {
      "cell_type": "markdown",
      "metadata": {
        "id": "Sk_Ti3_U9APn"
      },
      "source": [
        "### 날씨에 따른 holiday/non-holiday 등록 대여량 비교"
      ]
    },
    {
      "cell_type": "code",
      "metadata": {
        "colab": {
          "base_uri": "https://localhost:8080/",
          "height": 295
        },
        "id": "YhJt2kckuSyT",
        "outputId": "edf22703-5adb-4e2a-d3b0-5075fa97ac1d"
      },
      "source": [
        "# Dodged Bar Chart\r\n",
        "data['weather'] = data['weather'].astype(str)\r\n",
        "\r\n",
        "sns.barplot(x='weather', y='registered', hue='h_day', data=data, palette = 'Purples', ci=False)\r\n",
        "plt.title('weather-registered (h_day)', fontsize=12)\r\n",
        "plt.legend(fontsize=12)\r\n",
        "plt.show()"
      ],
      "execution_count": null,
      "outputs": [
        {
          "output_type": "display_data",
          "data": {
            "image/png": "[encoded data removed]",
            "text/plain": [
              "<Figure size 432x288 with 1 Axes>"
            ]
          },
          "metadata": {
            "tags": [],
            "needs_background": "light"
          }
        }
      ]
    },
    {
      "cell_type": "markdown",
      "metadata": {
        "id": "IUteQIJ49UB_"
      },
      "source": [
        "### 날씨에 따른 workingday/ non-workingday 대여량 비교"
      ]
    },
    {
      "cell_type": "code",
      "metadata": {
        "colab": {
          "base_uri": "https://localhost:8080/",
          "height": 295
        },
        "id": "lRn1hMbWvPiw",
        "outputId": "422285a1-3c54-4077-ced3-deada0bf987c"
      },
      "source": [
        "# Dodged Bar Chart\r\n",
        "data['weather'] = data['weather'].astype(str)\r\n",
        "\r\n",
        "sns.barplot(x='weather', y='registered', hue='w_day', data=data, palette = 'Purples_r', ci=False)\r\n",
        "plt.title('weather-registered (w_day)', fontsize=12)\r\n",
        "plt.legend(fontsize=12)\r\n",
        "plt.show()"
      ],
      "execution_count": null,
      "outputs": [
        {
          "output_type": "display_data",
          "data": {
            "image/png": "[encoded data removed]",
            "text/plain": [
              "<Figure size 432x288 with 1 Axes>"
            ]
          },
          "metadata": {
            "tags": [],
            "needs_background": "light"
          }
        }
      ]
    },
    {
      "cell_type": "markdown",
      "metadata": {
        "id": "Fn_ch9rKvSBK"
      },
      "source": [
        "위 분석을 통해 날씨가 좋지 않음에도 불구하고 (4) 대여를 하여 이용하는 경우는 대부분 holiday가 아닌 `working day`에 해당함으로 불가피하게 이용한 것임을 알 수 있으며, Level 3 기후인 경우도 holiday인 경우에 이용하는 경우보다 working day인 경우에 이용하는 것이 많은 것으로 파악되었다."
      ]
    },
    {
      "cell_type": "markdown",
      "metadata": {
        "id": "j43dXd1A9ac8"
      },
      "source": [
        "## 4-2 시간대별 등록/미등록 대여"
      ]
    },
    {
      "cell_type": "markdown",
      "metadata": {
        "id": "iOtO9tCY-S7F"
      },
      "source": [
        "### 시간대별 holiday/non-holiday 등록 대여량"
      ]
    },
    {
      "cell_type": "code",
      "metadata": {
        "colab": {
          "base_uri": "https://localhost:8080/",
          "height": 458
        },
        "id": "oCCJITW_-MMU",
        "outputId": "2a811cae-85e7-4a28-f5ae-03ba71f94382"
      },
      "source": [
        "# Dodged Bar Chart\r\n",
        "plt.subplots(figsize=(9,7)) \r\n",
        "sns.barplot(x='hour', y='registered', hue='h_day', data=data, palette = 'Set1',alpha = 0.8,  ci=False)\r\n",
        "plt.title('hour-registered (w_day)', fontsize=12)\r\n",
        "plt.legend(fontsize=12)\r\n",
        "plt.show()"
      ],
      "execution_count": null,
      "outputs": [
        {
          "output_type": "display_data",
          "data": {
            "image/png": "[encoded data removed]",
            "text/plain": [
              "<Figure size 648x504 with 1 Axes>"
            ]
          },
          "metadata": {
            "tags": [],
            "needs_background": "light"
          }
        }
      ]
    },
    {
      "cell_type": "markdown",
      "metadata": {
        "id": "yOftqPLY9lbm"
      },
      "source": [
        "### 시간대별 workingday/non-workingday 등록 대여량"
      ]
    },
    {
      "cell_type": "code",
      "metadata": {
        "colab": {
          "base_uri": "https://localhost:8080/",
          "height": 458
        },
        "id": "YEa8odXRyY4i",
        "outputId": "df32f448-da7e-4fbc-eac3-b616a5b90686"
      },
      "source": [
        "# Dodged Bar Chart\r\n",
        "plt.subplots(figsize=(9,7)) \r\n",
        "sns.barplot(x='hour', y='registered', hue='w_day', data=data, palette = 'Set1',alpha = 0.8,  ci=False)\r\n",
        "plt.title('hour-registered (w_day)', fontsize=12)\r\n",
        "plt.legend(fontsize=12)\r\n",
        "plt.show()"
      ],
      "execution_count": null,
      "outputs": [
        {
          "output_type": "display_data",
          "data": {
            "image/png": "[encoded data removed]",
            "text/plain": [
              "<Figure size 648x504 with 1 Axes>"
            ]
          },
          "metadata": {
            "tags": [],
            "needs_background": "light"
          }
        }
      ]
    },
    {
      "cell_type": "markdown",
      "metadata": {
        "id": "G0YnD826wTda"
      },
      "source": [
        "Holiday가 아닌 경우, 출퇴근 시간에 해당되는 오전 8시와 오후 17-18시에 등록된 자전거 대여량이 급증하는 것을 볼 수 있습니다. 마찬가지로 Working day에 대한 plot을 살펴보아도 7-8시와 17-19시 가량에 등록된 자전거 대여량이 급증하는 것을 볼 수 있다. 이를 통해 평소 출퇴근을 자전거를 이용하는 많은 사람들이 등록된 회원의 신분으로 자전거 대여를 하는 것임을 알 수 있습니다."
      ]
    },
    {
      "cell_type": "markdown",
      "metadata": {
        "id": "zrPNf1ov-XaH"
      },
      "source": [
        "### 시간대별 holiday/non-holiday 미등록 대여량"
      ]
    },
    {
      "cell_type": "code",
      "metadata": {
        "colab": {
          "base_uri": "https://localhost:8080/",
          "height": 458
        },
        "id": "FfFC0tjLwMHo",
        "outputId": "e6171e40-72de-4951-8fe7-b64c29e543f8"
      },
      "source": [
        "# Dodged Bar Chart\r\n",
        "plt.subplots(figsize=(9,7)) \r\n",
        "sns.barplot(x='hour', y='casual', hue='h_day', data=data, palette = 'Set1', alpha = 0.8,  ci=False)\r\n",
        "plt.title('hour-casual (h_day)', fontsize=12)\r\n",
        "plt.legend(fontsize=12)\r\n",
        "plt.show()"
      ],
      "execution_count": null,
      "outputs": [
        {
          "output_type": "display_data",
          "data": {
            "image/png": "[encoded data removed]",
            "text/plain": [
              "<Figure size 648x504 with 1 Axes>"
            ]
          },
          "metadata": {
            "tags": [],
            "needs_background": "light"
          }
        }
      ]
    },
    {
      "cell_type": "markdown",
      "metadata": {
        "id": "WPfcFk8ywn0Z"
      },
      "source": [
        "Holiday에는 미등록 대여의 수가 등록 대여 수를 초과하는 것을 볼 수 있으며, 낮 시간대에 많이 이용되는 것을 알 수 있습니다. (11시 ~ 16시)"
      ]
    },
    {
      "cell_type": "markdown",
      "metadata": {
        "id": "daxMpbSm-dnP"
      },
      "source": [
        "### 시간대별 workingday/non-workingday 미등록 대여량"
      ]
    },
    {
      "cell_type": "code",
      "metadata": {
        "colab": {
          "base_uri": "https://localhost:8080/",
          "height": 458
        },
        "id": "jsBGL92T-cYo",
        "outputId": "5b391c9a-4235-4b34-d594-ff009c218b51"
      },
      "source": [
        "# Dodged Bar Chart\r\n",
        "plt.subplots(figsize=(9,7)) \r\n",
        "sns.barplot(x='hour', y='casual', hue='w_day', data=data, palette = 'Set1', alpha = 0.8,  ci=False)\r\n",
        "plt.title('hour-casual (h_day)', fontsize=12)\r\n",
        "plt.legend(fontsize=12)\r\n",
        "plt.show()"
      ],
      "execution_count": null,
      "outputs": [
        {
          "output_type": "display_data",
          "data": {
            "image/png": "[encoded data removed]",
            "text/plain": [
              "<Figure size 648x504 with 1 Axes>"
            ]
          },
          "metadata": {
            "tags": [],
            "needs_background": "light"
          }
        }
      ]
    },
    {
      "cell_type": "markdown",
      "metadata": {
        "id": "uWNrXV7m-jRw"
      },
      "source": [
        "근무일이 아닐 때 미등록 대여량이 훨씬 많아지는 것을 볼 수 있으며, 근무일에 미등록 대여량이 조금이나마 많아지는 시간대는 퇴근 시간인 17-18시입니다. 다만 이조차도 non-workingday의 절반 수준으로, workingday에 미등록 대여를 하는 사람은 거의 없다고 볼 수 있습니다."
      ]
    },
    {
      "cell_type": "markdown",
      "metadata": {
        "id": "UDPkBPMS--ZG"
      },
      "source": [
        "## 4-3 요일별 등록/미등록 대여 비교"
      ]
    },
    {
      "cell_type": "code",
      "metadata": {
        "colab": {
          "base_uri": "https://localhost:8080/",
          "height": 369
        },
        "id": "KiDFe2jH1YLD",
        "outputId": "c93763a7-75f8-49c0-d796-ccec6546cd04"
      },
      "source": [
        "label = ['Mon','Tue','Wed','Thu', 'Fri', 'Sat', 'Sun']\r\n",
        "index = np.arange(len(label))\r\n",
        "plt.subplots(figsize=(7,5)) \r\n",
        "data_day_mean = data.groupby(['day'], as_index=False).mean()\r\n",
        "data_day_mean_casual = data_day_mean[[\"day\", \"casual\"]] #feature 1\r\n",
        "data_day_mean_casual = data_day_mean_casual.sort_values(by=\"casual\", ascending=False)\r\n",
        "plt.bar(data_day_mean_casual['day'],data_day_mean_casual['casual'], color = 'darkred')\r\n",
        "plt.title('weekdays-mean (casual)')\r\n",
        "plt.xlabel('day', fontsize=12)\r\n",
        "plt.ylabel('casual', fontsize=12)\r\n",
        "plt.xticks(index, label, fontsize=12, rotation=90)\r\n",
        "plt.show()\r\n"
      ],
      "execution_count": null,
      "outputs": [
        {
          "output_type": "display_data",
          "data": {
            "image/png": "[encoded data removed]",
            "text/plain": [
              "<Figure size 504x360 with 1 Axes>"
            ]
          },
          "metadata": {
            "tags": [],
            "needs_background": "light"
          }
        }
      ]
    },
    {
      "cell_type": "markdown",
      "metadata": {
        "id": "Maoqf7mz1lC1"
      },
      "source": [
        "위와 비슷한 맥락으로 주말에 미등록 사용자가 급증하는 추세를 보인다는 것을 알 수 있습니다."
      ]
    },
    {
      "cell_type": "code",
      "metadata": {
        "colab": {
          "base_uri": "https://localhost:8080/",
          "height": 369
        },
        "id": "yCu5VVOi1eRn",
        "outputId": "3a659754-b090-41e2-ef3c-fa4071c37e04"
      },
      "source": [
        "plt.subplots(figsize=(7,5)) \r\n",
        "data_day_mean = data.groupby(['day'], as_index=False).mean()\r\n",
        "data_day_mean_registered = data_day_mean[[\"day\", \"registered\"]] #feature 1\r\n",
        "data_day_mean_registered = data_day_mean_registered.sort_values(by=\"registered\", ascending=False)\r\n",
        "plt.bar(data_day_mean_registered['day'],data_day_mean_registered['registered'], color = 'darkred')\r\n",
        "plt.title('weekdays-mean (registered)')\r\n",
        "plt.xlabel('day', fontsize=12)\r\n",
        "plt.ylabel('registered', fontsize=12)\r\n",
        "plt.xticks(index, label, fontsize=12, rotation=90)\r\n",
        "plt.show()"
      ],
      "execution_count": null,
      "outputs": [
        {
          "output_type": "display_data",
          "data": {
            "image/png": "[encoded data removed]",
            "text/plain": [
              "<Figure size 504x360 with 1 Axes>"
            ]
          },
          "metadata": {
            "tags": [],
            "needs_background": "light"
          }
        }
      ]
    },
    {
      "cell_type": "markdown",
      "metadata": {
        "id": "OcvMfA6A1qHe"
      },
      "source": [
        "반면 등록 사용자수는 월요일부터 금요일까지 큰 변화를 보이지 않다가 주말에 감소하는 경향을 보입니다."
      ]
    },
    {
      "cell_type": "markdown",
      "metadata": {
        "id": "efzu3N1F1wo3"
      },
      "source": [
        "**전체적으로 '쉬는 날'에 해당하는 Holiday나 주말에는 미등록 사용자의 수가 증가하며, 이런 날에는 특정 시간대보다 낮 시간에 고루 사용자 수가 분포해있는 반면에, Working day에 해당하는 Holiday가 아닌 날이나 주중에는 꾸준히 많은 수의 등록 사용자들이 자전거를 대여하여 사용하며, 출퇴근 시간에 해당하는 오전 7-8시 그리고 오후 17-18시에 대여량이 급증하여 몰리는 현상을 확인할 수 있었습니다.**"
      ]
    },
    {
      "cell_type": "markdown",
      "metadata": {
        "id": "U1_DBjCg-c0E"
      },
      "source": [
        "앞서 월별 대여량 비교에서도 살펴보았듯이, 계절별로 대여량을 비교해보면 **가을 > 여름 > 겨울 > 봄** 순으로 대여량이 많은 것을 알 수 있습니다."
      ]
    },
    {
      "cell_type": "markdown",
      "metadata": {
        "id": "mGxBQKxDtdcG"
      },
      "source": [
        "# 5. 온도 관련 분석"
      ]
    },
    {
      "cell_type": "markdown",
      "metadata": {
        "id": "Ip4zRT35W2Ex"
      },
      "source": [
        "Feature 생성 \r\n",
        "temp와 atemp 간 상관관계가 매우 크므로 다중공선성 문제가 발생할 가능성이 매우 높기 때문에 다음과 같은 새로운 feature를 생성하였습니다.\r\n",
        "- **temp_total** = temp + atemp (두 온도의 합)\r\n",
        "- **temp_gap** = atemp - temp (체감온도 - 실제온도. 실제 온도보다 체감온도보다 높은 경우 파악하기 위해)"
      ]
    },
    {
      "cell_type": "code",
      "metadata": {
        "id": "p8Nma8LbhQZR"
      },
      "source": [
        "data['temp_total'] = data['temp'] + data['atemp']\r\n",
        "data['temp_gap'] = data['atemp'] - data['temp']"
      ],
      "execution_count": null,
      "outputs": []
    },
    {
      "cell_type": "code",
      "metadata": {
        "colab": {
          "base_uri": "https://localhost:8080/",
          "height": 444
        },
        "id": "60bkoqFSXu_v",
        "outputId": "283274e1-ab60-4c5f-bd59-8633896b14c7"
      },
      "source": [
        "plt.subplots(figsize=(9,7)) \r\n",
        "data_temp_mean = data.groupby(['month'], as_index=False).mean()\r\n",
        "plt.bar(data_temp_mean['month'],data_temp_mean['temp_gap'], color = 'lightblue')\r\n",
        "plt.title('monthly temp_gap avg')\r\n",
        "plt.xticks()\r\n",
        "plt.show()"
      ],
      "execution_count": null,
      "outputs": [
        {
          "output_type": "display_data",
          "data": {
            "image/png": "[encoded data removed]",
            "text/plain": [
              "<Figure size 648x504 with 1 Axes>"
            ]
          },
          "metadata": {
            "tags": [],
            "needs_background": "light"
          }
        }
      ]
    },
    {
      "cell_type": "code",
      "metadata": {
        "colab": {
          "base_uri": "https://localhost:8080/",
          "height": 353
        },
        "id": "PKusTh3iDbeV",
        "outputId": "8df41da8-35eb-48f4-ccf0-f5ffb0c1a531"
      },
      "source": [
        "plt.subplots(figsize=(7,5)) \r\n",
        "data_temp_gap_mean = data.groupby(['temp_gap'], as_index=False).mean()\r\n",
        "data_temp_gap_mean_num = data_temp_gap_mean[[\"temp_gap\", \"num\"]] #feature 1\r\n",
        "data_temp_gap_mean_num = data_temp_gap_mean_num.sort_values(by=\"num\", ascending=False)\r\n",
        "plt.bar(data_temp_gap_mean_num['temp_gap'],data_temp_gap_mean_num['num'], color = 'lightblue')\r\n",
        "plt.title('temp_gaps-mean')\t\r\n",
        "plt.xlabel('temp_gap', fontsize=12)\r\n",
        "plt.ylabel('num', fontsize=12)\r\n",
        "plt.show()"
      ],
      "execution_count": null,
      "outputs": [
        {
          "output_type": "display_data",
          "data": {
            "image/png": "[encoded data removed]",
            "text/plain": [
              "<Figure size 504x360 with 1 Axes>"
            ]
          },
          "metadata": {
            "tags": [],
            "needs_background": "light"
          }
        }
      ]
    },
    {
      "cell_type": "code",
      "metadata": {
        "colab": {
          "base_uri": "https://localhost:8080/",
          "height": 353
        },
        "id": "GPc0BtD1DqrO",
        "outputId": "6c9856fd-8ef9-4590-d243-7f896c815abc"
      },
      "source": [
        "plt.subplots(figsize=(7,5)) \r\n",
        "data_temp_gap_mean = data.groupby(['temp_gap'], as_index=False).mean()\r\n",
        "data_temp_gap_mean_casual = data_temp_gap_mean[[\"temp_gap\", \"casual\"]] #feature 1\r\n",
        "data_temp_gap_mean_casual = data_temp_gap_mean_casual.sort_values(by=\"casual\", ascending=False)\r\n",
        "plt.bar(data_temp_gap_mean_casual['temp_gap'],data_temp_gap_mean_casual['casual'], color = 'lightblue')\r\n",
        "plt.title('temp_gaps-mean')\t\r\n",
        "plt.xlabel('temp_gap', fontsize=12)\r\n",
        "plt.ylabel('casual', fontsize=12)\r\n",
        "plt.show()\r\n"
      ],
      "execution_count": null,
      "outputs": [
        {
          "output_type": "display_data",
          "data": {
            "image/png": "[encoded data removed]",
            "text/plain": [
              "<Figure size 504x360 with 1 Axes>"
            ]
          },
          "metadata": {
            "tags": [],
            "needs_background": "light"
          }
        }
      ]
    },
    {
      "cell_type": "markdown",
      "metadata": {
        "id": "q0Bgc_nqEA5G"
      },
      "source": [
        "월별 체감기온과 실제기온의 차이가 겨울을 제외하고는 1년 내내 그렇게 크지 않은 것으로 보아 대여량에 큰 영향을 미치지 않을 것이라 볼 수 있습니다.\r\n",
        "다만 대체적으로 체감 기온 - 실제 기온 > 0, 즉 실제 기온이 체감 기온보다 더 낮을 때 대여량이 더 많아지는 것을 알 수 있으며, 미등록 대여의 경우 더욱 그렇다는 것을 알 수 있습니다."
      ]
    },
    {
      "cell_type": "code",
      "metadata": {
        "colab": {
          "base_uri": "https://localhost:8080/",
          "height": 353
        },
        "id": "dxSYmzuBXdTR",
        "outputId": "9d45c80b-2882-4657-9d94-69ffa417950d"
      },
      "source": [
        "plt.subplots(figsize=(7,5)) \r\n",
        "data_temp_total_mean = data.groupby(['temp_total'], as_index=False).mean()\r\n",
        "data_temp_total_mean_num = data_temp_total_mean[[\"temp_total\", \"num\"]] #feature 1\r\n",
        "data_temp_total_mean_num = data_temp_total_mean_num.sort_values(by=\"num\", ascending=False)\r\n",
        "plt.bar(data_temp_total_mean_num['temp_total'],data_temp_total_mean_num['num'], color = 'lightblue')\r\n",
        "plt.title('temp_totals-mean')\t\r\n",
        "plt.xlabel('temp_total', fontsize=12)\r\n",
        "plt.ylabel('num', fontsize=12)\r\n",
        "plt.show()"
      ],
      "execution_count": null,
      "outputs": [
        {
          "output_type": "display_data",
          "data": {
            "image/png": "[encoded data removed]",
            "text/plain": [
              "<Figure size 504x360 with 1 Axes>"
            ]
          },
          "metadata": {
            "tags": [],
            "needs_background": "light"
          }
        }
      ]
    },
    {
      "cell_type": "markdown",
      "metadata": {
        "id": "4GFjkIOLqAtL"
      },
      "source": [
        "대체적으로 체감기온과 실제기온의 합이 높을 때, 즉 추울 때보다 따뜻할수록 대여량이 많은 것을 확인할 수 있습니다."
      ]
    },
    {
      "cell_type": "code",
      "metadata": {
        "colab": {
          "base_uri": "https://localhost:8080/",
          "height": 394
        },
        "id": "2A3JxNkJFLaX",
        "outputId": "5d852ebb-eef9-46d3-d977-d21f1edcf2c9"
      },
      "source": [
        "data.head()"
      ],
      "execution_count": null,
      "outputs": [
        {
          "output_type": "execute_result",
          "data": {
            "text/html": [
              "<div>\n",
              "<style scoped>\n",
              "    .dataframe tbody tr th:only-of-type {\n",
              "        vertical-align: middle;\n",
              "    }\n",
              "\n",
              "    .dataframe tbody tr th {\n",
              "        vertical-align: top;\n",
              "    }\n",
              "\n",
              "    .dataframe thead th {\n",
              "        text-align: right;\n",
              "    }\n",
              "</style>\n",
              "<table border=\"1\" class=\"dataframe\">\n",
              "  <thead>\n",
              "    <tr style=\"text-align: right;\">\n",
              "      <th></th>\n",
              "      <th>index</th>\n",
              "      <th>datetime</th>\n",
              "      <th>season</th>\n",
              "      <th>h_day</th>\n",
              "      <th>w_day</th>\n",
              "      <th>weather</th>\n",
              "      <th>temp</th>\n",
              "      <th>atemp</th>\n",
              "      <th>humidity</th>\n",
              "      <th>windspeed</th>\n",
              "      <th>casual</th>\n",
              "      <th>registered</th>\n",
              "      <th>num</th>\n",
              "      <th>log_windspeed</th>\n",
              "      <th>log_casual</th>\n",
              "      <th>datetime_dt</th>\n",
              "      <th>year</th>\n",
              "      <th>month</th>\n",
              "      <th>hour</th>\n",
              "      <th>day</th>\n",
              "      <th>day_night</th>\n",
              "      <th>date</th>\n",
              "      <th>humid_class</th>\n",
              "      <th>temp_total</th>\n",
              "      <th>temp_gap</th>\n",
              "    </tr>\n",
              "  </thead>\n",
              "  <tbody>\n",
              "    <tr>\n",
              "      <th>0</th>\n",
              "      <td>5</td>\n",
              "      <td>2011-01-01 05:00:00</td>\n",
              "      <td>1</td>\n",
              "      <td>0</td>\n",
              "      <td>0</td>\n",
              "      <td>2</td>\n",
              "      <td>9.84</td>\n",
              "      <td>12.880</td>\n",
              "      <td>75</td>\n",
              "      <td>6.0032</td>\n",
              "      <td>0</td>\n",
              "      <td>1</td>\n",
              "      <td>1</td>\n",
              "      <td>1.792293</td>\n",
              "      <td>-inf</td>\n",
              "      <td>2011-01-01 05:00:00</td>\n",
              "      <td>2011</td>\n",
              "      <td>1</td>\n",
              "      <td>5</td>\n",
              "      <td>5</td>\n",
              "      <td>night</td>\n",
              "      <td>01</td>\n",
              "      <td>mid-high</td>\n",
              "      <td>22.720</td>\n",
              "      <td>3.040</td>\n",
              "    </tr>\n",
              "    <tr>\n",
              "      <th>1</th>\n",
              "      <td>10</td>\n",
              "      <td>2011-01-01 10:00:00</td>\n",
              "      <td>1</td>\n",
              "      <td>0</td>\n",
              "      <td>0</td>\n",
              "      <td>1</td>\n",
              "      <td>15.58</td>\n",
              "      <td>19.695</td>\n",
              "      <td>76</td>\n",
              "      <td>16.9979</td>\n",
              "      <td>12</td>\n",
              "      <td>24</td>\n",
              "      <td>36</td>\n",
              "      <td>2.833090</td>\n",
              "      <td>2.484907</td>\n",
              "      <td>2011-01-01 10:00:00</td>\n",
              "      <td>2011</td>\n",
              "      <td>1</td>\n",
              "      <td>10</td>\n",
              "      <td>5</td>\n",
              "      <td>day</td>\n",
              "      <td>01</td>\n",
              "      <td>mid-high</td>\n",
              "      <td>35.275</td>\n",
              "      <td>4.115</td>\n",
              "    </tr>\n",
              "    <tr>\n",
              "      <th>2</th>\n",
              "      <td>11</td>\n",
              "      <td>2011-01-01 11:00:00</td>\n",
              "      <td>1</td>\n",
              "      <td>0</td>\n",
              "      <td>0</td>\n",
              "      <td>1</td>\n",
              "      <td>14.76</td>\n",
              "      <td>16.665</td>\n",
              "      <td>81</td>\n",
              "      <td>19.0012</td>\n",
              "      <td>26</td>\n",
              "      <td>30</td>\n",
              "      <td>56</td>\n",
              "      <td>2.944502</td>\n",
              "      <td>3.258097</td>\n",
              "      <td>2011-01-01 11:00:00</td>\n",
              "      <td>2011</td>\n",
              "      <td>1</td>\n",
              "      <td>11</td>\n",
              "      <td>5</td>\n",
              "      <td>day</td>\n",
              "      <td>01</td>\n",
              "      <td>high</td>\n",
              "      <td>31.425</td>\n",
              "      <td>1.905</td>\n",
              "    </tr>\n",
              "    <tr>\n",
              "      <th>3</th>\n",
              "      <td>12</td>\n",
              "      <td>2011-01-01 12:00:00</td>\n",
              "      <td>1</td>\n",
              "      <td>0</td>\n",
              "      <td>0</td>\n",
              "      <td>1</td>\n",
              "      <td>17.22</td>\n",
              "      <td>21.210</td>\n",
              "      <td>77</td>\n",
              "      <td>19.0012</td>\n",
              "      <td>29</td>\n",
              "      <td>55</td>\n",
              "      <td>84</td>\n",
              "      <td>2.944502</td>\n",
              "      <td>3.367296</td>\n",
              "      <td>2011-01-01 12:00:00</td>\n",
              "      <td>2011</td>\n",
              "      <td>1</td>\n",
              "      <td>12</td>\n",
              "      <td>5</td>\n",
              "      <td>day</td>\n",
              "      <td>01</td>\n",
              "      <td>mid-high</td>\n",
              "      <td>38.430</td>\n",
              "      <td>3.990</td>\n",
              "    </tr>\n",
              "    <tr>\n",
              "      <th>4</th>\n",
              "      <td>13</td>\n",
              "      <td>2011-01-01 13:00:00</td>\n",
              "      <td>1</td>\n",
              "      <td>0</td>\n",
              "      <td>0</td>\n",
              "      <td>2</td>\n",
              "      <td>18.86</td>\n",
              "      <td>22.725</td>\n",
              "      <td>72</td>\n",
              "      <td>19.9995</td>\n",
              "      <td>47</td>\n",
              "      <td>47</td>\n",
              "      <td>94</td>\n",
              "      <td>2.995707</td>\n",
              "      <td>3.850148</td>\n",
              "      <td>2011-01-01 13:00:00</td>\n",
              "      <td>2011</td>\n",
              "      <td>1</td>\n",
              "      <td>13</td>\n",
              "      <td>5</td>\n",
              "      <td>day</td>\n",
              "      <td>01</td>\n",
              "      <td>mid-high</td>\n",
              "      <td>41.585</td>\n",
              "      <td>3.865</td>\n",
              "    </tr>\n",
              "  </tbody>\n",
              "</table>\n",
              "</div>"
            ],
            "text/plain": [
              "   index             datetime  season  ...  humid_class  temp_total temp_gap\n",
              "0      5  2011-01-01 05:00:00       1  ...     mid-high      22.720    3.040\n",
              "1     10  2011-01-01 10:00:00       1  ...     mid-high      35.275    4.115\n",
              "2     11  2011-01-01 11:00:00       1  ...         high      31.425    1.905\n",
              "3     12  2011-01-01 12:00:00       1  ...     mid-high      38.430    3.990\n",
              "4     13  2011-01-01 13:00:00       1  ...     mid-high      41.585    3.865\n",
              "\n",
              "[5 rows x 25 columns]"
            ]
          },
          "metadata": {
            "tags": []
          },
          "execution_count": 57
        }
      ]
    },
    {
      "cell_type": "markdown",
      "metadata": {
        "id": "ToLlqQPrFDff"
      },
      "source": [
        "# 6. 최종 결론 및 인사이트\r\n",
        "\r\n",
        "**초기 변수**\r\n",
        "1. **datetime** - hourly date + timestamp\r\n",
        "2. **season**\r\n",
        "  - 1 = spring\r\n",
        "  - 2 = summer\r\n",
        "  - 3 = fall\r\n",
        "  - 4 = winter\r\n",
        "3. **holiday** - whether the day is considered a holiday\r\n",
        "4. **workingday** - whether the day is neither a weekend nor holiday\r\n",
        "5. **weather**\r\n",
        "  - 1: Clear, Few clouds, Partly cloudy, Partly cloudy\r\n",
        "  - 2: Mist + Cloudy, Mist + Broken clouds, Mist + Few clouds, Mist\r\n",
        "  - 3: Light Snow, Light Rain + Thunderstorm + Scattered clouds, Light Rain + Scattered clouds\r\n",
        "  - 4: Heavy Rain + Ice Pallets + Thunderstorm + Mist, Snow + Fog \r\n",
        "6. **temp** - temperature in Celsius\r\n",
        "7. **atemp** - \"feels like\" temperature in Celsius\r\n",
        "8. **humidity** - relative humidity\r\n",
        "9. **windspeed** - wind speed\r\n",
        "10. **casual** - number of non-registered user rentals initiated\r\n",
        "11. **registered** - number of registered user rentals initiated\r\n",
        "12. **count** - number of total rentals\r\n",
        "\r\n",
        "총 12개의 변수"
      ]
    },
    {
      "cell_type": "markdown",
      "metadata": {
        "id": "N3bgbRXPKnQ2"
      },
      "source": [
        "\r\n",
        "\r\n",
        "---\r\n",
        "\r\n",
        "---\r\n",
        "\r\n",
        "\r\n",
        "\r\n",
        "\r\n",
        "\r\n"
      ]
    },
    {
      "cell_type": "markdown",
      "metadata": {
        "id": "AfyyENdQKlmq"
      },
      "source": [
        "본 분석에는 주로 **count** 변수를 타깃 변수로 삼았으며, 분석 내용에 따라 **casual**과 **registered**에 대한 분석도 진행했습니다.\r\n",
        "\r\n",
        "1. **datetime** - hourly date + timestamp  \r\n",
        "날짜를 나타내는 datetime변수를 object (일반 문자열 형태)에서 'datetime' 형태로 변환해주었으며, 이로부터 다음과 같은 변수들을 추출하여 생성하였고, 각 변수에 대한 분석을 진행했습니다.\r\n",
        "\r\n",
        "  - **year**: 연도 (2011/2012)\r\n",
        "  - **month**: 월  \r\n",
        "  겨울에 해당하는 1월과 2월에 대여량이 가장 적으며, 이후 날씨가 풀리는 3월과 4월에 조금씩 증가하다가 6월부터 10월 간 가장 대여량이 많은 것을 볼 수 있었습니다.\r\n",
        "  - **date**: 일  \r\n",
        "  일별 대여량에는 큰 차이가 없었습니다. \r\n",
        "  - **hour**: 시간  \r\n",
        "  하루 중 가장 대여량이 많은 시간대는 퇴근 시간에 해당하는 17시와 18시, 그리고 출근 시간인 오전 08시임을 알 수 있었습니다. 21시 이후부터 사용량이 대폭 감소하며 새벽에는 사용량이 거의 없다가 오전 07시부터 본격적으로 대여가 시작됨을 알 수 있었습니다.\r\n",
        "  - **day**: 요일 (월/화/수/목/금/토/일)  \r\n",
        "  요일에 따른 대여량에는 차이가 거의 없는 것을 확인하였습니다. 다만 요일별 등록/미등록 대여는 차이를 보였는데, 주말에 미등록 사용자가 급증하는 추세를 보이는 반면 등록 사용자수는 월요일부터 금요일까지 큰 변화를 보이지 않다가 주말에 감소하는 경향을 보인다는 것을 알 수 있었습니다.\r\n",
        "  - **day_night**: 낮/밤 (06시 - 17시: day, 18시 - 05시: night으로 구분)  \r\n",
        "  주말(sat, sun)에 낮에 대여량이 증가하고 밤에는 대여량이 감소한다는 것을 알 수 있으며, 주중 대여량은 큰 차이 없이 모두 비슷한 대여량 수치를 보인다는 것을 알 수 있었습니다.\r\n",
        "\r\n",
        "2. **season**  \r\n",
        "  0/1/2/3으로 표현되어 있던 계절 변수는 각각 Spring, Summer, Fall, Winter라는 Label을 붙여 시각화를 진행했으며, 계절별로 대여량의 증감을 비교하는 데에 사용하였습니다.  \r\n",
        "  겨울과 봄에는 대여량이 비교적 적으며, 여름과 가을에 대여량이 많은 것을 알 수 있었습니다.\r\n",
        "\r\n",
        "\r\n",
        "3. **holiday** - whether the day is considered a holiday\r\n",
        "4. **workingday** - whether the day is neither a weekend nor holiday\r\n",
        "\r\n",
        "  휴일을 나타내는 **holiday** 변수와 근무일을 나타내는 **workingday** 변수는, 날씨 그리고 시간대 변수와 혼합하여 휴일일 때와 아닐 때 대여량의 차이를 보여주는 분석을 진행했으며, 출퇴근을 하지 않는 휴일에는 주로 낮 시간대에 대여량이 많고 출퇴근을 해야 하는 근무일에는 출퇴근 시간에 해당하는 7-8시와 17-18시에 대여량이 많은 것을 알 수 있었습니다.  \r\n",
        "   또한 날씨가 좋지 않음에도 불구하고 대여를 하여 이용하는 경우는 대부분 holiday가 아닌 working day에 해당함으로 불가피하게 이용한 것임을 알 수 있었습니다. \r\n",
        "\r\n",
        "5. **weather**\r\n",
        "  총 4개의 class로 나뉜 **weather**변수는 악천후에 자전거 대여량이 어떻게 변화하는지 알아보기 위해 사용하였습니다. 다만 전체 데이터 중 Level 4에 해당되는 날씨는 하루 밖에 없다는 것을 알게 되었고, 그로 인해 악천후일 때보다 그렇지 않을 때 대여량이 더 많다는 사실은 알 우 있었지만, Level4에 해당되는 값은 평균 대여량이, 다른 Level과 달리 평균값이 아닌 하루의 수치일 것이기 때문에 (data의 개수가 하나이기 때문) bias가 있는 plot이 생성될 것이라고 생각하여 Level3과 4를 비교하는 데에는 무리가 있다고 판단하여 간단한 분석만 진행할 수 있었다는 한계점이 있었습니다.\r\n",
        "\r\n",
        "6. **temp** - temperature in Celsius\r\n",
        "7. **atemp** - \"feels like\" temperature in Celsius  \r\n",
        "\r\n",
        "  파생변수 생성: temp와 atemp 간 상관관계가 매우 크므로 다중공선성 문제가 발생할 가능성이 매우 높기 때문에 다음과 같은 새로운 feature를 생성하였습니다.\r\n",
        "  - **temp_total** = temp + atemp (두 온도의 합)\r\n",
        "  - **temp_gap** = atemp - temp (체감온도 - 실제온도. 실제 온도보다 체감온도보다 높은 경우 파악하기 위해)\r\n",
        "\r\n",
        "  대체적으로 체감기온과 실제기온의 합이 높을 때, 즉 추울 때보다 따뜻할수록 대여량이 많은 것을 확인할 수 있었습니다. 월별 체감기온과 실제기온의 차이는 대여량에 큰 영향을 미치지 않을 것이라 보았지만 대체적으로 실제 기온이 체감 기온보다 더 낮을 때 대여량이 더 많아지는 것을 알 수 있으며, 미등록 대여의 경우 더욱 그렇다는 것을 파악할 수 있었습니다.\r\n",
        "\r\n",
        "8. **humidity** - relative humidity  \r\n",
        "습도가 낮을수록 대여량이 증가함을 알 수 있었습니다.\r\n",
        "\r\n",
        "9. **windspeed** - wind speed  \r\n",
        "  왼쪽으로 치우쳐져 있는 변수값들의 분포를 정규분포로 근사시키기 위해 로그 변환을 진행했습니다. 변수 windspeed, casual, registered,num의 중 num과 registered는 타깃 변수로 사용될 확률이 높기 때문에 로그변환을 하지 않고, Log casual을 변환할 경우 1400개 가량의 데이터 손실이 일어남으로 이들을 제외한 나머지 한 개의 변수 즉 windspeed에 대해 로그 변환을 실행해주었다. -> **log_windspeed**\r\n",
        "\r\n",
        "등록/미등록대여 타깃변수\r\n",
        "10. **casual** - number of non-registered user rentals initiated\r\n",
        "11. **registered** - number of registered user rentals initiated\r\n",
        "\r\n",
        " '쉬는 날'에 해당하는 Holiday나 주말에는 미등록 사용자의 수가 증가한다는 것을 파악하였습니다. 이런 날에는 특정 시간대보다 낮 시간에 고루 사용자 수가 분포해있는 반면에, Working day에 해당하는 Holiday가 아닌 날이나 주중에는 꾸준히 많은 수의 등록 사용자들이 자전거를 대여하여 사용하며, 출퇴근 시간에 해당하는 오전 7-8시 그리고 오후 17-18시에 대여량이 급증하여 몰리는 현상을 확인할 수 있었습니다.\r\n",
        "\r\n",
        "타깃 변수로 사용 (총 대여수)\r\n",
        "12. **count** - number of total rentals"
      ]
    }
  ]
}